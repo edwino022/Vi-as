{
 "cells": [
  {
   "cell_type": "markdown",
   "id": "ca276d42-9601-423c-92c3-925ab0ea7ced",
   "metadata": {},
   "source": [
    "<h1>Activity 2: UK ROAD ACCIDENT</h1>\n",
    "<hr/>\n",
    "<h3>Analyst: Edwin Viñas</h3>"
   ]
  },
  {
   "cell_type": "markdown",
   "id": "04eff999-1135-4a37-9b78-e628b4dc76fc",
   "metadata": {},
   "source": [
    "<h1>Import Libraries</h1>"
   ]
  },
  {
   "cell_type": "code",
   "execution_count": 65,
   "id": "dac422bc-c573-4b93-a34c-de0db1f2330b",
   "metadata": {},
   "outputs": [],
   "source": [
    "import numpy as np\n",
    "import pandas as pd\n",
    "import matplotlib.pyplot as plt\n",
    "import warnings\n",
    "warnings.filterwarnings('ignore')"
   ]
  },
  {
   "cell_type": "markdown",
   "id": "f5eada71-5ef8-48a8-bfd2-e7cae433608d",
   "metadata": {},
   "source": [
    "<h1>Convert the DataSet into DataFrame</h1>"
   ]
  },
  {
   "cell_type": "code",
   "execution_count": 66,
   "id": "835facc6-8ef4-4865-931b-40a846b95ddc",
   "metadata": {},
   "outputs": [],
   "source": [
    "accident = pd.read_csv(\"datasets//uk_road_accident.csv\")"
   ]
  },
  {
   "cell_type": "code",
   "execution_count": 67,
   "id": "a2382119-39a0-4d02-b9c9-1965ddb6713e",
   "metadata": {},
   "outputs": [
    {
     "data": {
      "text/html": [
       "<div>\n",
       "<style scoped>\n",
       "    .dataframe tbody tr th:only-of-type {\n",
       "        vertical-align: middle;\n",
       "    }\n",
       "\n",
       "    .dataframe tbody tr th {\n",
       "        vertical-align: top;\n",
       "    }\n",
       "\n",
       "    .dataframe thead th {\n",
       "        text-align: right;\n",
       "    }\n",
       "</style>\n",
       "<table border=\"1\" class=\"dataframe\">\n",
       "  <thead>\n",
       "    <tr style=\"text-align: right;\">\n",
       "      <th></th>\n",
       "      <th>Index</th>\n",
       "      <th>Accident_Severity</th>\n",
       "      <th>Accident Date</th>\n",
       "      <th>Latitude</th>\n",
       "      <th>Light_Conditions</th>\n",
       "      <th>District Area</th>\n",
       "      <th>Longitude</th>\n",
       "      <th>Number_of_Casualties</th>\n",
       "      <th>Number_of_Vehicles</th>\n",
       "      <th>Road_Surface_Conditions</th>\n",
       "      <th>Road_Type</th>\n",
       "      <th>Urban_or_Rural_Area</th>\n",
       "      <th>Weather_Conditions</th>\n",
       "      <th>Vehicle_Type</th>\n",
       "    </tr>\n",
       "  </thead>\n",
       "  <tbody>\n",
       "    <tr>\n",
       "      <th>0</th>\n",
       "      <td>200701BS64157</td>\n",
       "      <td>Serious</td>\n",
       "      <td>5/6/2019</td>\n",
       "      <td>51.506187</td>\n",
       "      <td>Darkness - lights lit</td>\n",
       "      <td>Kensington and Chelsea</td>\n",
       "      <td>-0.209082</td>\n",
       "      <td>1</td>\n",
       "      <td>2</td>\n",
       "      <td>Dry</td>\n",
       "      <td>Single carriageway</td>\n",
       "      <td>Urban</td>\n",
       "      <td>Fine no high winds</td>\n",
       "      <td>Car</td>\n",
       "    </tr>\n",
       "    <tr>\n",
       "      <th>1</th>\n",
       "      <td>200701BS65737</td>\n",
       "      <td>Serious</td>\n",
       "      <td>2/7/2019</td>\n",
       "      <td>51.495029</td>\n",
       "      <td>Daylight</td>\n",
       "      <td>Kensington and Chelsea</td>\n",
       "      <td>-0.173647</td>\n",
       "      <td>1</td>\n",
       "      <td>2</td>\n",
       "      <td>Wet or damp</td>\n",
       "      <td>Single carriageway</td>\n",
       "      <td>Urban</td>\n",
       "      <td>Raining no high winds</td>\n",
       "      <td>Car</td>\n",
       "    </tr>\n",
       "    <tr>\n",
       "      <th>2</th>\n",
       "      <td>200701BS66127</td>\n",
       "      <td>Serious</td>\n",
       "      <td>26-08-2019</td>\n",
       "      <td>51.517715</td>\n",
       "      <td>Darkness - lighting unknown</td>\n",
       "      <td>Kensington and Chelsea</td>\n",
       "      <td>-0.210215</td>\n",
       "      <td>1</td>\n",
       "      <td>3</td>\n",
       "      <td>Dry</td>\n",
       "      <td>NaN</td>\n",
       "      <td>Urban</td>\n",
       "      <td>NaN</td>\n",
       "      <td>Taxi/Private hire car</td>\n",
       "    </tr>\n",
       "    <tr>\n",
       "      <th>3</th>\n",
       "      <td>200701BS66128</td>\n",
       "      <td>Serious</td>\n",
       "      <td>16-08-2019</td>\n",
       "      <td>51.495478</td>\n",
       "      <td>Daylight</td>\n",
       "      <td>Kensington and Chelsea</td>\n",
       "      <td>-0.202731</td>\n",
       "      <td>1</td>\n",
       "      <td>4</td>\n",
       "      <td>Dry</td>\n",
       "      <td>Single carriageway</td>\n",
       "      <td>Urban</td>\n",
       "      <td>Fine no high winds</td>\n",
       "      <td>Bus or coach (17 or more pass seats)</td>\n",
       "    </tr>\n",
       "    <tr>\n",
       "      <th>4</th>\n",
       "      <td>200701BS66837</td>\n",
       "      <td>Slight</td>\n",
       "      <td>3/9/2019</td>\n",
       "      <td>51.488576</td>\n",
       "      <td>Darkness - lights lit</td>\n",
       "      <td>Kensington and Chelsea</td>\n",
       "      <td>-0.192487</td>\n",
       "      <td>1</td>\n",
       "      <td>2</td>\n",
       "      <td>Dry</td>\n",
       "      <td>NaN</td>\n",
       "      <td>Urban</td>\n",
       "      <td>NaN</td>\n",
       "      <td>Other vehicle</td>\n",
       "    </tr>\n",
       "    <tr>\n",
       "      <th>...</th>\n",
       "      <td>...</td>\n",
       "      <td>...</td>\n",
       "      <td>...</td>\n",
       "      <td>...</td>\n",
       "      <td>...</td>\n",
       "      <td>...</td>\n",
       "      <td>...</td>\n",
       "      <td>...</td>\n",
       "      <td>...</td>\n",
       "      <td>...</td>\n",
       "      <td>...</td>\n",
       "      <td>...</td>\n",
       "      <td>...</td>\n",
       "      <td>...</td>\n",
       "    </tr>\n",
       "    <tr>\n",
       "      <th>660674</th>\n",
       "      <td>201091NM01760</td>\n",
       "      <td>Slight</td>\n",
       "      <td>18-02-2022</td>\n",
       "      <td>57.374005</td>\n",
       "      <td>Daylight</td>\n",
       "      <td>Highland</td>\n",
       "      <td>-3.467828</td>\n",
       "      <td>2</td>\n",
       "      <td>1</td>\n",
       "      <td>Dry</td>\n",
       "      <td>Single carriageway</td>\n",
       "      <td>Rural</td>\n",
       "      <td>Fine no high winds</td>\n",
       "      <td>Car</td>\n",
       "    </tr>\n",
       "    <tr>\n",
       "      <th>660675</th>\n",
       "      <td>201091NM01881</td>\n",
       "      <td>Slight</td>\n",
       "      <td>21-02-2022</td>\n",
       "      <td>57.232273</td>\n",
       "      <td>Darkness - no lighting</td>\n",
       "      <td>Highland</td>\n",
       "      <td>-3.809281</td>\n",
       "      <td>1</td>\n",
       "      <td>1</td>\n",
       "      <td>Frost or ice</td>\n",
       "      <td>Single carriageway</td>\n",
       "      <td>Rural</td>\n",
       "      <td>Fine no high winds</td>\n",
       "      <td>Car</td>\n",
       "    </tr>\n",
       "    <tr>\n",
       "      <th>660676</th>\n",
       "      <td>201091NM01935</td>\n",
       "      <td>Slight</td>\n",
       "      <td>23-02-2022</td>\n",
       "      <td>57.585044</td>\n",
       "      <td>Daylight</td>\n",
       "      <td>Highland</td>\n",
       "      <td>-3.862727</td>\n",
       "      <td>1</td>\n",
       "      <td>3</td>\n",
       "      <td>Frost or ice</td>\n",
       "      <td>Single carriageway</td>\n",
       "      <td>Rural</td>\n",
       "      <td>Fine no high winds</td>\n",
       "      <td>Car</td>\n",
       "    </tr>\n",
       "    <tr>\n",
       "      <th>660677</th>\n",
       "      <td>201091NM01964</td>\n",
       "      <td>Serious</td>\n",
       "      <td>23-02-2022</td>\n",
       "      <td>57.214898</td>\n",
       "      <td>Darkness - no lighting</td>\n",
       "      <td>Highland</td>\n",
       "      <td>-3.823997</td>\n",
       "      <td>1</td>\n",
       "      <td>2</td>\n",
       "      <td>Wet or damp</td>\n",
       "      <td>Single carriageway</td>\n",
       "      <td>Rural</td>\n",
       "      <td>Fine no high winds</td>\n",
       "      <td>Motorcycle over 500cc</td>\n",
       "    </tr>\n",
       "    <tr>\n",
       "      <th>660678</th>\n",
       "      <td>201091NM02142</td>\n",
       "      <td>Serious</td>\n",
       "      <td>28-02-2022</td>\n",
       "      <td>57.575210</td>\n",
       "      <td>Daylight</td>\n",
       "      <td>Highland</td>\n",
       "      <td>-3.895673</td>\n",
       "      <td>1</td>\n",
       "      <td>1</td>\n",
       "      <td>Wet or damp</td>\n",
       "      <td>Dual carriageway</td>\n",
       "      <td>Rural</td>\n",
       "      <td>Snowing no high winds</td>\n",
       "      <td>Car</td>\n",
       "    </tr>\n",
       "  </tbody>\n",
       "</table>\n",
       "<p>660679 rows × 14 columns</p>\n",
       "</div>"
      ],
      "text/plain": [
       "                Index Accident_Severity Accident Date   Latitude  \\\n",
       "0       200701BS64157           Serious      5/6/2019  51.506187   \n",
       "1       200701BS65737           Serious      2/7/2019  51.495029   \n",
       "2       200701BS66127           Serious    26-08-2019  51.517715   \n",
       "3       200701BS66128           Serious    16-08-2019  51.495478   \n",
       "4       200701BS66837            Slight      3/9/2019  51.488576   \n",
       "...               ...               ...           ...        ...   \n",
       "660674  201091NM01760            Slight    18-02-2022  57.374005   \n",
       "660675  201091NM01881            Slight    21-02-2022  57.232273   \n",
       "660676  201091NM01935            Slight    23-02-2022  57.585044   \n",
       "660677  201091NM01964           Serious    23-02-2022  57.214898   \n",
       "660678  201091NM02142           Serious    28-02-2022  57.575210   \n",
       "\n",
       "                   Light_Conditions           District Area  Longitude  \\\n",
       "0             Darkness - lights lit  Kensington and Chelsea  -0.209082   \n",
       "1                          Daylight  Kensington and Chelsea  -0.173647   \n",
       "2       Darkness - lighting unknown  Kensington and Chelsea  -0.210215   \n",
       "3                          Daylight  Kensington and Chelsea  -0.202731   \n",
       "4             Darkness - lights lit  Kensington and Chelsea  -0.192487   \n",
       "...                             ...                     ...        ...   \n",
       "660674                     Daylight                Highland  -3.467828   \n",
       "660675       Darkness - no lighting                Highland  -3.809281   \n",
       "660676                     Daylight                Highland  -3.862727   \n",
       "660677       Darkness - no lighting                Highland  -3.823997   \n",
       "660678                     Daylight                Highland  -3.895673   \n",
       "\n",
       "        Number_of_Casualties  Number_of_Vehicles Road_Surface_Conditions  \\\n",
       "0                          1                   2                     Dry   \n",
       "1                          1                   2             Wet or damp   \n",
       "2                          1                   3                     Dry   \n",
       "3                          1                   4                     Dry   \n",
       "4                          1                   2                     Dry   \n",
       "...                      ...                 ...                     ...   \n",
       "660674                     2                   1                     Dry   \n",
       "660675                     1                   1            Frost or ice   \n",
       "660676                     1                   3            Frost or ice   \n",
       "660677                     1                   2             Wet or damp   \n",
       "660678                     1                   1             Wet or damp   \n",
       "\n",
       "                 Road_Type Urban_or_Rural_Area     Weather_Conditions  \\\n",
       "0       Single carriageway               Urban     Fine no high winds   \n",
       "1       Single carriageway               Urban  Raining no high winds   \n",
       "2                      NaN               Urban                    NaN   \n",
       "3       Single carriageway               Urban     Fine no high winds   \n",
       "4                      NaN               Urban                    NaN   \n",
       "...                    ...                 ...                    ...   \n",
       "660674  Single carriageway               Rural     Fine no high winds   \n",
       "660675  Single carriageway               Rural     Fine no high winds   \n",
       "660676  Single carriageway               Rural     Fine no high winds   \n",
       "660677  Single carriageway               Rural     Fine no high winds   \n",
       "660678    Dual carriageway               Rural  Snowing no high winds   \n",
       "\n",
       "                                Vehicle_Type  \n",
       "0                                        Car  \n",
       "1                                        Car  \n",
       "2                      Taxi/Private hire car  \n",
       "3       Bus or coach (17 or more pass seats)  \n",
       "4                              Other vehicle  \n",
       "...                                      ...  \n",
       "660674                                   Car  \n",
       "660675                                   Car  \n",
       "660676                                   Car  \n",
       "660677                 Motorcycle over 500cc  \n",
       "660678                                   Car  \n",
       "\n",
       "[660679 rows x 14 columns]"
      ]
     },
     "execution_count": 67,
     "metadata": {},
     "output_type": "execute_result"
    }
   ],
   "source": [
    "accident"
   ]
  },
  {
   "cell_type": "code",
   "execution_count": 68,
   "id": "791cebd7-5c3c-474e-817c-13f111f1a93c",
   "metadata": {},
   "outputs": [
    {
     "data": {
      "text/plain": [
       "Index(['Index', 'Accident_Severity', 'Accident Date', 'Latitude',\n",
       "       'Light_Conditions', 'District Area', 'Longitude',\n",
       "       'Number_of_Casualties', 'Number_of_Vehicles', 'Road_Surface_Conditions',\n",
       "       'Road_Type', 'Urban_or_Rural_Area', 'Weather_Conditions',\n",
       "       'Vehicle_Type'],\n",
       "      dtype='object')"
      ]
     },
     "execution_count": 68,
     "metadata": {},
     "output_type": "execute_result"
    }
   ],
   "source": [
    "accident.columns"
   ]
  },
  {
   "cell_type": "markdown",
   "id": "c7dec68d-82d2-4a02-a998-db6bb62bcadb",
   "metadata": {},
   "source": [
    "<h1>Checking for Null Values</h1>"
   ]
  },
  {
   "cell_type": "code",
   "execution_count": 69,
   "id": "6befbc61-5c8e-4f55-a5de-0a684e051585",
   "metadata": {},
   "outputs": [
    {
     "data": {
      "text/html": [
       "<div>\n",
       "<style scoped>\n",
       "    .dataframe tbody tr th:only-of-type {\n",
       "        vertical-align: middle;\n",
       "    }\n",
       "\n",
       "    .dataframe tbody tr th {\n",
       "        vertical-align: top;\n",
       "    }\n",
       "\n",
       "    .dataframe thead th {\n",
       "        text-align: right;\n",
       "    }\n",
       "</style>\n",
       "<table border=\"1\" class=\"dataframe\">\n",
       "  <thead>\n",
       "    <tr style=\"text-align: right;\">\n",
       "      <th></th>\n",
       "      <th>Index</th>\n",
       "      <th>Accident_Severity</th>\n",
       "      <th>Accident Date</th>\n",
       "      <th>Latitude</th>\n",
       "      <th>Light_Conditions</th>\n",
       "      <th>District Area</th>\n",
       "      <th>Longitude</th>\n",
       "      <th>Number_of_Casualties</th>\n",
       "      <th>Number_of_Vehicles</th>\n",
       "      <th>Road_Surface_Conditions</th>\n",
       "      <th>Road_Type</th>\n",
       "      <th>Urban_or_Rural_Area</th>\n",
       "      <th>Weather_Conditions</th>\n",
       "      <th>Vehicle_Type</th>\n",
       "    </tr>\n",
       "  </thead>\n",
       "  <tbody>\n",
       "    <tr>\n",
       "      <th>0</th>\n",
       "      <td>False</td>\n",
       "      <td>False</td>\n",
       "      <td>False</td>\n",
       "      <td>False</td>\n",
       "      <td>False</td>\n",
       "      <td>False</td>\n",
       "      <td>False</td>\n",
       "      <td>False</td>\n",
       "      <td>False</td>\n",
       "      <td>False</td>\n",
       "      <td>False</td>\n",
       "      <td>False</td>\n",
       "      <td>False</td>\n",
       "      <td>False</td>\n",
       "    </tr>\n",
       "    <tr>\n",
       "      <th>1</th>\n",
       "      <td>False</td>\n",
       "      <td>False</td>\n",
       "      <td>False</td>\n",
       "      <td>False</td>\n",
       "      <td>False</td>\n",
       "      <td>False</td>\n",
       "      <td>False</td>\n",
       "      <td>False</td>\n",
       "      <td>False</td>\n",
       "      <td>False</td>\n",
       "      <td>False</td>\n",
       "      <td>False</td>\n",
       "      <td>False</td>\n",
       "      <td>False</td>\n",
       "    </tr>\n",
       "    <tr>\n",
       "      <th>2</th>\n",
       "      <td>False</td>\n",
       "      <td>False</td>\n",
       "      <td>False</td>\n",
       "      <td>False</td>\n",
       "      <td>False</td>\n",
       "      <td>False</td>\n",
       "      <td>False</td>\n",
       "      <td>False</td>\n",
       "      <td>False</td>\n",
       "      <td>False</td>\n",
       "      <td>True</td>\n",
       "      <td>False</td>\n",
       "      <td>True</td>\n",
       "      <td>False</td>\n",
       "    </tr>\n",
       "    <tr>\n",
       "      <th>3</th>\n",
       "      <td>False</td>\n",
       "      <td>False</td>\n",
       "      <td>False</td>\n",
       "      <td>False</td>\n",
       "      <td>False</td>\n",
       "      <td>False</td>\n",
       "      <td>False</td>\n",
       "      <td>False</td>\n",
       "      <td>False</td>\n",
       "      <td>False</td>\n",
       "      <td>False</td>\n",
       "      <td>False</td>\n",
       "      <td>False</td>\n",
       "      <td>False</td>\n",
       "    </tr>\n",
       "    <tr>\n",
       "      <th>4</th>\n",
       "      <td>False</td>\n",
       "      <td>False</td>\n",
       "      <td>False</td>\n",
       "      <td>False</td>\n",
       "      <td>False</td>\n",
       "      <td>False</td>\n",
       "      <td>False</td>\n",
       "      <td>False</td>\n",
       "      <td>False</td>\n",
       "      <td>False</td>\n",
       "      <td>True</td>\n",
       "      <td>False</td>\n",
       "      <td>True</td>\n",
       "      <td>False</td>\n",
       "    </tr>\n",
       "    <tr>\n",
       "      <th>...</th>\n",
       "      <td>...</td>\n",
       "      <td>...</td>\n",
       "      <td>...</td>\n",
       "      <td>...</td>\n",
       "      <td>...</td>\n",
       "      <td>...</td>\n",
       "      <td>...</td>\n",
       "      <td>...</td>\n",
       "      <td>...</td>\n",
       "      <td>...</td>\n",
       "      <td>...</td>\n",
       "      <td>...</td>\n",
       "      <td>...</td>\n",
       "      <td>...</td>\n",
       "    </tr>\n",
       "    <tr>\n",
       "      <th>660674</th>\n",
       "      <td>False</td>\n",
       "      <td>False</td>\n",
       "      <td>False</td>\n",
       "      <td>False</td>\n",
       "      <td>False</td>\n",
       "      <td>False</td>\n",
       "      <td>False</td>\n",
       "      <td>False</td>\n",
       "      <td>False</td>\n",
       "      <td>False</td>\n",
       "      <td>False</td>\n",
       "      <td>False</td>\n",
       "      <td>False</td>\n",
       "      <td>False</td>\n",
       "    </tr>\n",
       "    <tr>\n",
       "      <th>660675</th>\n",
       "      <td>False</td>\n",
       "      <td>False</td>\n",
       "      <td>False</td>\n",
       "      <td>False</td>\n",
       "      <td>False</td>\n",
       "      <td>False</td>\n",
       "      <td>False</td>\n",
       "      <td>False</td>\n",
       "      <td>False</td>\n",
       "      <td>False</td>\n",
       "      <td>False</td>\n",
       "      <td>False</td>\n",
       "      <td>False</td>\n",
       "      <td>False</td>\n",
       "    </tr>\n",
       "    <tr>\n",
       "      <th>660676</th>\n",
       "      <td>False</td>\n",
       "      <td>False</td>\n",
       "      <td>False</td>\n",
       "      <td>False</td>\n",
       "      <td>False</td>\n",
       "      <td>False</td>\n",
       "      <td>False</td>\n",
       "      <td>False</td>\n",
       "      <td>False</td>\n",
       "      <td>False</td>\n",
       "      <td>False</td>\n",
       "      <td>False</td>\n",
       "      <td>False</td>\n",
       "      <td>False</td>\n",
       "    </tr>\n",
       "    <tr>\n",
       "      <th>660677</th>\n",
       "      <td>False</td>\n",
       "      <td>False</td>\n",
       "      <td>False</td>\n",
       "      <td>False</td>\n",
       "      <td>False</td>\n",
       "      <td>False</td>\n",
       "      <td>False</td>\n",
       "      <td>False</td>\n",
       "      <td>False</td>\n",
       "      <td>False</td>\n",
       "      <td>False</td>\n",
       "      <td>False</td>\n",
       "      <td>False</td>\n",
       "      <td>False</td>\n",
       "    </tr>\n",
       "    <tr>\n",
       "      <th>660678</th>\n",
       "      <td>False</td>\n",
       "      <td>False</td>\n",
       "      <td>False</td>\n",
       "      <td>False</td>\n",
       "      <td>False</td>\n",
       "      <td>False</td>\n",
       "      <td>False</td>\n",
       "      <td>False</td>\n",
       "      <td>False</td>\n",
       "      <td>False</td>\n",
       "      <td>False</td>\n",
       "      <td>False</td>\n",
       "      <td>False</td>\n",
       "      <td>False</td>\n",
       "    </tr>\n",
       "  </tbody>\n",
       "</table>\n",
       "<p>660679 rows × 14 columns</p>\n",
       "</div>"
      ],
      "text/plain": [
       "        Index  Accident_Severity  Accident Date  Latitude  Light_Conditions  \\\n",
       "0       False              False          False     False             False   \n",
       "1       False              False          False     False             False   \n",
       "2       False              False          False     False             False   \n",
       "3       False              False          False     False             False   \n",
       "4       False              False          False     False             False   \n",
       "...       ...                ...            ...       ...               ...   \n",
       "660674  False              False          False     False             False   \n",
       "660675  False              False          False     False             False   \n",
       "660676  False              False          False     False             False   \n",
       "660677  False              False          False     False             False   \n",
       "660678  False              False          False     False             False   \n",
       "\n",
       "        District Area  Longitude  Number_of_Casualties  Number_of_Vehicles  \\\n",
       "0               False      False                 False               False   \n",
       "1               False      False                 False               False   \n",
       "2               False      False                 False               False   \n",
       "3               False      False                 False               False   \n",
       "4               False      False                 False               False   \n",
       "...               ...        ...                   ...                 ...   \n",
       "660674          False      False                 False               False   \n",
       "660675          False      False                 False               False   \n",
       "660676          False      False                 False               False   \n",
       "660677          False      False                 False               False   \n",
       "660678          False      False                 False               False   \n",
       "\n",
       "        Road_Surface_Conditions  Road_Type  Urban_or_Rural_Area  \\\n",
       "0                         False      False                False   \n",
       "1                         False      False                False   \n",
       "2                         False       True                False   \n",
       "3                         False      False                False   \n",
       "4                         False       True                False   \n",
       "...                         ...        ...                  ...   \n",
       "660674                    False      False                False   \n",
       "660675                    False      False                False   \n",
       "660676                    False      False                False   \n",
       "660677                    False      False                False   \n",
       "660678                    False      False                False   \n",
       "\n",
       "        Weather_Conditions  Vehicle_Type  \n",
       "0                    False         False  \n",
       "1                    False         False  \n",
       "2                     True         False  \n",
       "3                    False         False  \n",
       "4                     True         False  \n",
       "...                    ...           ...  \n",
       "660674               False         False  \n",
       "660675               False         False  \n",
       "660676               False         False  \n",
       "660677               False         False  \n",
       "660678               False         False  \n",
       "\n",
       "[660679 rows x 14 columns]"
      ]
     },
     "execution_count": 69,
     "metadata": {},
     "output_type": "execute_result"
    }
   ],
   "source": [
    "accident.isnull()"
   ]
  },
  {
   "cell_type": "markdown",
   "id": "c1d37687-7789-41d6-89f4-a27ba9ff6526",
   "metadata": {},
   "source": [
    "<h1>Descriptive Analytics</h1>"
   ]
  },
  {
   "cell_type": "code",
   "execution_count": 70,
   "id": "4608eae4-1408-4b30-954f-0a04480a9d2b",
   "metadata": {},
   "outputs": [
    {
     "data": {
      "text/html": [
       "<div>\n",
       "<style scoped>\n",
       "    .dataframe tbody tr th:only-of-type {\n",
       "        vertical-align: middle;\n",
       "    }\n",
       "\n",
       "    .dataframe tbody tr th {\n",
       "        vertical-align: top;\n",
       "    }\n",
       "\n",
       "    .dataframe thead th {\n",
       "        text-align: right;\n",
       "    }\n",
       "</style>\n",
       "<table border=\"1\" class=\"dataframe\">\n",
       "  <thead>\n",
       "    <tr style=\"text-align: right;\">\n",
       "      <th></th>\n",
       "      <th>Latitude</th>\n",
       "      <th>Longitude</th>\n",
       "      <th>Number_of_Casualties</th>\n",
       "      <th>Number_of_Vehicles</th>\n",
       "    </tr>\n",
       "  </thead>\n",
       "  <tbody>\n",
       "    <tr>\n",
       "      <th>count</th>\n",
       "      <td>660654.000000</td>\n",
       "      <td>660653.000000</td>\n",
       "      <td>660679.000000</td>\n",
       "      <td>660679.000000</td>\n",
       "    </tr>\n",
       "    <tr>\n",
       "      <th>mean</th>\n",
       "      <td>52.553866</td>\n",
       "      <td>-1.431210</td>\n",
       "      <td>1.357040</td>\n",
       "      <td>1.831255</td>\n",
       "    </tr>\n",
       "    <tr>\n",
       "      <th>std</th>\n",
       "      <td>1.406922</td>\n",
       "      <td>1.383330</td>\n",
       "      <td>0.824847</td>\n",
       "      <td>0.715269</td>\n",
       "    </tr>\n",
       "    <tr>\n",
       "      <th>min</th>\n",
       "      <td>49.914430</td>\n",
       "      <td>-7.516225</td>\n",
       "      <td>1.000000</td>\n",
       "      <td>1.000000</td>\n",
       "    </tr>\n",
       "    <tr>\n",
       "      <th>25%</th>\n",
       "      <td>51.490690</td>\n",
       "      <td>-2.332291</td>\n",
       "      <td>1.000000</td>\n",
       "      <td>1.000000</td>\n",
       "    </tr>\n",
       "    <tr>\n",
       "      <th>50%</th>\n",
       "      <td>52.315641</td>\n",
       "      <td>-1.411667</td>\n",
       "      <td>1.000000</td>\n",
       "      <td>2.000000</td>\n",
       "    </tr>\n",
       "    <tr>\n",
       "      <th>75%</th>\n",
       "      <td>53.453452</td>\n",
       "      <td>-0.232869</td>\n",
       "      <td>1.000000</td>\n",
       "      <td>2.000000</td>\n",
       "    </tr>\n",
       "    <tr>\n",
       "      <th>max</th>\n",
       "      <td>60.757544</td>\n",
       "      <td>1.762010</td>\n",
       "      <td>68.000000</td>\n",
       "      <td>32.000000</td>\n",
       "    </tr>\n",
       "  </tbody>\n",
       "</table>\n",
       "</div>"
      ],
      "text/plain": [
       "            Latitude      Longitude  Number_of_Casualties  Number_of_Vehicles\n",
       "count  660654.000000  660653.000000         660679.000000       660679.000000\n",
       "mean       52.553866      -1.431210              1.357040            1.831255\n",
       "std         1.406922       1.383330              0.824847            0.715269\n",
       "min        49.914430      -7.516225              1.000000            1.000000\n",
       "25%        51.490690      -2.332291              1.000000            1.000000\n",
       "50%        52.315641      -1.411667              1.000000            2.000000\n",
       "75%        53.453452      -0.232869              1.000000            2.000000\n",
       "max        60.757544       1.762010             68.000000           32.000000"
      ]
     },
     "execution_count": 70,
     "metadata": {},
     "output_type": "execute_result"
    }
   ],
   "source": [
    "accident.describe()"
   ]
  },
  {
   "cell_type": "markdown",
   "id": "b739ac84-41c2-4088-8c85-2379370a4834",
   "metadata": {},
   "source": [
    "<h1>Check DataFrame Info</h1>"
   ]
  },
  {
   "cell_type": "code",
   "execution_count": 71,
   "id": "2e5f0990-d6f7-4e5f-8f9b-75c8941c2727",
   "metadata": {},
   "outputs": [
    {
     "name": "stdout",
     "output_type": "stream",
     "text": [
      "<class 'pandas.core.frame.DataFrame'>\n",
      "RangeIndex: 660679 entries, 0 to 660678\n",
      "Data columns (total 14 columns):\n",
      " #   Column                   Non-Null Count   Dtype  \n",
      "---  ------                   --------------   -----  \n",
      " 0   Index                    660679 non-null  object \n",
      " 1   Accident_Severity        660679 non-null  object \n",
      " 2   Accident Date            660679 non-null  object \n",
      " 3   Latitude                 660654 non-null  float64\n",
      " 4   Light_Conditions         660679 non-null  object \n",
      " 5   District Area            660679 non-null  object \n",
      " 6   Longitude                660653 non-null  float64\n",
      " 7   Number_of_Casualties     660679 non-null  int64  \n",
      " 8   Number_of_Vehicles       660679 non-null  int64  \n",
      " 9   Road_Surface_Conditions  659953 non-null  object \n",
      " 10  Road_Type                656159 non-null  object \n",
      " 11  Urban_or_Rural_Area      660664 non-null  object \n",
      " 12  Weather_Conditions       646551 non-null  object \n",
      " 13  Vehicle_Type             660679 non-null  object \n",
      "dtypes: float64(2), int64(2), object(10)\n",
      "memory usage: 70.6+ MB\n"
     ]
    }
   ],
   "source": [
    "accident.info()"
   ]
  },
  {
   "cell_type": "markdown",
   "id": "002e6ef9-5020-47cf-91b5-0a0bd3ffe911",
   "metadata": {},
   "source": [
    "<h1>Filling Up The Null Values</h1>"
   ]
  },
  {
   "cell_type": "code",
   "execution_count": 72,
   "id": "c27dd518-b4cd-4e3f-a918-d248c91f0cf6",
   "metadata": {},
   "outputs": [
    {
     "data": {
      "text/plain": [
       "Index                          0\n",
       "Accident_Severity              0\n",
       "Accident Date                  0\n",
       "Latitude                      25\n",
       "Light_Conditions               0\n",
       "District Area                  0\n",
       "Longitude                     26\n",
       "Number_of_Casualties           0\n",
       "Number_of_Vehicles             0\n",
       "Road_Surface_Conditions      726\n",
       "Road_Type                   4520\n",
       "Urban_or_Rural_Area           15\n",
       "Weather_Conditions         14128\n",
       "Vehicle_Type                   0\n",
       "dtype: int64"
      ]
     },
     "execution_count": 72,
     "metadata": {},
     "output_type": "execute_result"
    }
   ],
   "source": [
    "accident.isnull().sum()"
   ]
  },
  {
   "cell_type": "code",
   "execution_count": 73,
   "id": "71875927-71bc-42a7-bdeb-ccaf16996386",
   "metadata": {},
   "outputs": [
    {
     "data": {
      "text/plain": [
       "0         51.506187\n",
       "1         51.495029\n",
       "2         51.517715\n",
       "3         51.495478\n",
       "4         51.488576\n",
       "            ...    \n",
       "660674    57.374005\n",
       "660675    57.232273\n",
       "660676    57.585044\n",
       "660677    57.214898\n",
       "660678    57.575210\n",
       "Name: Latitude, Length: 660679, dtype: float64"
      ]
     },
     "execution_count": 73,
     "metadata": {},
     "output_type": "execute_result"
    }
   ],
   "source": [
    "accident['Latitude']"
   ]
  },
  {
   "cell_type": "code",
   "execution_count": 74,
   "id": "777db173-9dbc-4799-8550-9fa0134ebb70",
   "metadata": {},
   "outputs": [
    {
     "data": {
      "text/plain": [
       "np.float64(52.553865761110956)"
      ]
     },
     "execution_count": 74,
     "metadata": {},
     "output_type": "execute_result"
    }
   ],
   "source": [
    "accident['Latitude'].mean()"
   ]
  },
  {
   "cell_type": "code",
   "execution_count": 75,
   "id": "87a959c3-6f14-4db3-beca-65f97c7ccb40",
   "metadata": {},
   "outputs": [],
   "source": [
    "accident['Latitude'] = accident['Latitude'].fillna(accident['Latitude'].mean())"
   ]
  },
  {
   "cell_type": "code",
   "execution_count": 76,
   "id": "d8851151-8106-4e42-b24f-7a915fa57dd8",
   "metadata": {},
   "outputs": [
    {
     "data": {
      "text/plain": [
       "0        -0.209082\n",
       "1        -0.173647\n",
       "2        -0.210215\n",
       "3        -0.202731\n",
       "4        -0.192487\n",
       "            ...   \n",
       "660674   -3.467828\n",
       "660675   -3.809281\n",
       "660676   -3.862727\n",
       "660677   -3.823997\n",
       "660678   -3.895673\n",
       "Name: Longitude, Length: 660679, dtype: float64"
      ]
     },
     "execution_count": 76,
     "metadata": {},
     "output_type": "execute_result"
    }
   ],
   "source": [
    "accident['Longitude']"
   ]
  },
  {
   "cell_type": "code",
   "execution_count": 77,
   "id": "f9e66e9e-63ae-4669-be3a-0545478d17c7",
   "metadata": {},
   "outputs": [
    {
     "data": {
      "text/plain": [
       "np.float64(-1.4312103685020727)"
      ]
     },
     "execution_count": 77,
     "metadata": {},
     "output_type": "execute_result"
    }
   ],
   "source": [
    "accident['Longitude'].mean()"
   ]
  },
  {
   "cell_type": "code",
   "execution_count": 78,
   "id": "cff12afa-6c71-4b41-a8e2-f5838ad70fbf",
   "metadata": {},
   "outputs": [],
   "source": [
    "accident['Longitude'] = accident['Longitude'].fillna(accident['Longitude'].mean())"
   ]
  },
  {
   "cell_type": "code",
   "execution_count": 79,
   "id": "4b3f655b-ccc7-45de-9741-c242731803b3",
   "metadata": {},
   "outputs": [
    {
     "data": {
      "text/plain": [
       "0                  Dry\n",
       "1          Wet or damp\n",
       "2                  Dry\n",
       "3                  Dry\n",
       "4                  Dry\n",
       "              ...     \n",
       "660674             Dry\n",
       "660675    Frost or ice\n",
       "660676    Frost or ice\n",
       "660677     Wet or damp\n",
       "660678     Wet or damp\n",
       "Name: Road_Surface_Conditions, Length: 660679, dtype: object"
      ]
     },
     "execution_count": 79,
     "metadata": {},
     "output_type": "execute_result"
    }
   ],
   "source": [
    "accident['Road_Surface_Conditions']"
   ]
  },
  {
   "cell_type": "code",
   "execution_count": 80,
   "id": "2cb41411-a9d3-48a9-ad15-b493b1f69b89",
   "metadata": {},
   "outputs": [
    {
     "data": {
      "text/plain": [
       "0    Dry\n",
       "Name: Road_Surface_Conditions, dtype: object"
      ]
     },
     "execution_count": 80,
     "metadata": {},
     "output_type": "execute_result"
    }
   ],
   "source": [
    "accident['Road_Surface_Conditions'].mode()"
   ]
  },
  {
   "cell_type": "code",
   "execution_count": 81,
   "id": "edf17dbb-dabb-48ad-b802-73e8a9a79216",
   "metadata": {},
   "outputs": [],
   "source": [
    "accident['Road_Surface_Conditions'] = accident['Road_Surface_Conditions'].fillna(accident['Road_Surface_Conditions'].mode()[0])"
   ]
  },
  {
   "cell_type": "code",
   "execution_count": 82,
   "id": "c0b4cb2b-9a02-4f48-8455-af32861fd7da",
   "metadata": {},
   "outputs": [
    {
     "data": {
      "text/plain": [
       "0         Single carriageway\n",
       "1         Single carriageway\n",
       "2                        NaN\n",
       "3         Single carriageway\n",
       "4                        NaN\n",
       "                 ...        \n",
       "660674    Single carriageway\n",
       "660675    Single carriageway\n",
       "660676    Single carriageway\n",
       "660677    Single carriageway\n",
       "660678      Dual carriageway\n",
       "Name: Road_Type, Length: 660679, dtype: object"
      ]
     },
     "execution_count": 82,
     "metadata": {},
     "output_type": "execute_result"
    }
   ],
   "source": [
    "accident['Road_Type']"
   ]
  },
  {
   "cell_type": "code",
   "execution_count": 83,
   "id": "008ed3e0-f1fd-455e-826e-d97419762758",
   "metadata": {},
   "outputs": [
    {
     "data": {
      "text/plain": [
       "0    Single carriageway\n",
       "Name: Road_Type, dtype: object"
      ]
     },
     "execution_count": 83,
     "metadata": {},
     "output_type": "execute_result"
    }
   ],
   "source": [
    "accident['Road_Type'].mode()"
   ]
  },
  {
   "cell_type": "code",
   "execution_count": 84,
   "id": "ad52842a-786f-4132-a731-7d47abfac188",
   "metadata": {},
   "outputs": [],
   "source": [
    "accident['Road_Type'] = accident['Road_Type'].fillna(accident['Road_Type'].mode()[0])"
   ]
  },
  {
   "cell_type": "code",
   "execution_count": 85,
   "id": "2c3c3559-05c2-4f8f-b033-6e00f114e061",
   "metadata": {},
   "outputs": [
    {
     "data": {
      "text/plain": [
       "0         Urban\n",
       "1         Urban\n",
       "2         Urban\n",
       "3         Urban\n",
       "4         Urban\n",
       "          ...  \n",
       "660674    Rural\n",
       "660675    Rural\n",
       "660676    Rural\n",
       "660677    Rural\n",
       "660678    Rural\n",
       "Name: Urban_or_Rural_Area, Length: 660679, dtype: object"
      ]
     },
     "execution_count": 85,
     "metadata": {},
     "output_type": "execute_result"
    }
   ],
   "source": [
    "accident['Urban_or_Rural_Area']"
   ]
  },
  {
   "cell_type": "code",
   "execution_count": 86,
   "id": "d9bd3a7d-e3b8-40b2-9794-0caf550c0fd4",
   "metadata": {},
   "outputs": [
    {
     "data": {
      "text/plain": [
       "0    Urban\n",
       "Name: Urban_or_Rural_Area, dtype: object"
      ]
     },
     "execution_count": 86,
     "metadata": {},
     "output_type": "execute_result"
    }
   ],
   "source": [
    "accident['Urban_or_Rural_Area'].mode()"
   ]
  },
  {
   "cell_type": "code",
   "execution_count": 87,
   "id": "abde3fb9-e468-4fb0-a366-3e7cae570b3f",
   "metadata": {},
   "outputs": [],
   "source": [
    "accident['Urban_or_Rural_Area'] = accident['Urban_or_Rural_Area'].fillna(accident['Urban_or_Rural_Area'].mode()[0])"
   ]
  },
  {
   "cell_type": "code",
   "execution_count": 88,
   "id": "4a470db2-dc08-4cc7-b3da-eec2834df70b",
   "metadata": {},
   "outputs": [
    {
     "data": {
      "text/plain": [
       "0            Fine no high winds\n",
       "1         Raining no high winds\n",
       "2                           NaN\n",
       "3            Fine no high winds\n",
       "4                           NaN\n",
       "                  ...          \n",
       "660674       Fine no high winds\n",
       "660675       Fine no high winds\n",
       "660676       Fine no high winds\n",
       "660677       Fine no high winds\n",
       "660678    Snowing no high winds\n",
       "Name: Weather_Conditions, Length: 660679, dtype: object"
      ]
     },
     "execution_count": 88,
     "metadata": {},
     "output_type": "execute_result"
    }
   ],
   "source": [
    "accident['Weather_Conditions']"
   ]
  },
  {
   "cell_type": "code",
   "execution_count": 89,
   "id": "e6d3e72c-c0c5-4065-bd85-87efbd2d689b",
   "metadata": {},
   "outputs": [
    {
     "data": {
      "text/plain": [
       "0    Fine no high winds\n",
       "Name: Weather_Conditions, dtype: object"
      ]
     },
     "execution_count": 89,
     "metadata": {},
     "output_type": "execute_result"
    }
   ],
   "source": [
    "accident['Weather_Conditions'].mode()"
   ]
  },
  {
   "cell_type": "code",
   "execution_count": 90,
   "id": "7f63cf90-0267-4d10-a607-0adf107566c0",
   "metadata": {},
   "outputs": [],
   "source": [
    "accident['Weather_Conditions'] = accident['Weather_Conditions'].fillna(accident['Weather_Conditions'].mode()[0])"
   ]
  },
  {
   "cell_type": "code",
   "execution_count": 91,
   "id": "8cf0daa6-52f5-4204-9f2f-593a2d0e3e5e",
   "metadata": {},
   "outputs": [
    {
     "data": {
      "text/plain": [
       "Index                      0\n",
       "Accident_Severity          0\n",
       "Accident Date              0\n",
       "Latitude                   0\n",
       "Light_Conditions           0\n",
       "District Area              0\n",
       "Longitude                  0\n",
       "Number_of_Casualties       0\n",
       "Number_of_Vehicles         0\n",
       "Road_Surface_Conditions    0\n",
       "Road_Type                  0\n",
       "Urban_or_Rural_Area        0\n",
       "Weather_Conditions         0\n",
       "Vehicle_Type               0\n",
       "dtype: int64"
      ]
     },
     "execution_count": 91,
     "metadata": {},
     "output_type": "execute_result"
    }
   ],
   "source": [
    "accident.isnull().sum()"
   ]
  },
  {
   "cell_type": "markdown",
   "id": "a1cd610b-7287-45a2-8f87-05f2c4f944fd",
   "metadata": {},
   "source": [
    "<h1>Changing Dtypes</h1>"
   ]
  },
  {
   "cell_type": "code",
   "execution_count": 92,
   "id": "03500c23-e9a1-465f-92bd-c42b688415a7",
   "metadata": {},
   "outputs": [
    {
     "data": {
      "text/plain": [
       "Index                       object\n",
       "Accident_Severity           object\n",
       "Accident Date               object\n",
       "Latitude                   float64\n",
       "Light_Conditions            object\n",
       "District Area               object\n",
       "Longitude                  float64\n",
       "Number_of_Casualties         int64\n",
       "Number_of_Vehicles           int64\n",
       "Road_Surface_Conditions     object\n",
       "Road_Type                   object\n",
       "Urban_or_Rural_Area         object\n",
       "Weather_Conditions          object\n",
       "Vehicle_Type                object\n",
       "dtype: object"
      ]
     },
     "execution_count": 92,
     "metadata": {},
     "output_type": "execute_result"
    }
   ],
   "source": [
    "accident.dtypes"
   ]
  },
  {
   "cell_type": "code",
   "execution_count": 93,
   "id": "ce9cf958-8206-4d6e-96bf-8958bd689310",
   "metadata": {},
   "outputs": [],
   "source": [
    "accident['Index'] = accident['Index'].astype(\"category\")\n",
    "accident['Accident_Severity'] = accident['Accident_Severity'].astype(\"category\")\n",
    "accident['Accident Date'] = accident['Accident Date'].astype(\"category\")\n",
    "accident['Light_Conditions'] = accident['Light_Conditions'].astype(\"category\")\n",
    "accident['District Area'] = accident['District Area'].astype(\"category\")\n",
    "accident['Road_Surface_Conditions'] = accident['Road_Surface_Conditions'].astype(\"category\")\n",
    "accident['Road_Type'] = accident['Road_Type'].astype(\"category\")\n",
    "accident['Urban_or_Rural_Area'] = accident['Urban_or_Rural_Area'].astype(\"category\")\n",
    "accident['Weather_Conditions'] = accident['Weather_Conditions'].astype(\"category\")\n",
    "accident['Vehicle_Type'] = accident['Vehicle_Type'].astype(\"category\")"
   ]
  },
  {
   "cell_type": "code",
   "execution_count": 94,
   "id": "b13456e5-b46e-4be5-825b-0e7c69d879ae",
   "metadata": {},
   "outputs": [
    {
     "data": {
      "text/plain": [
       "Index                      category\n",
       "Accident_Severity          category\n",
       "Accident Date              category\n",
       "Latitude                    float64\n",
       "Light_Conditions           category\n",
       "District Area              category\n",
       "Longitude                   float64\n",
       "Number_of_Casualties          int64\n",
       "Number_of_Vehicles            int64\n",
       "Road_Surface_Conditions    category\n",
       "Road_Type                  category\n",
       "Urban_or_Rural_Area        category\n",
       "Weather_Conditions         category\n",
       "Vehicle_Type               category\n",
       "dtype: object"
      ]
     },
     "execution_count": 94,
     "metadata": {},
     "output_type": "execute_result"
    }
   ],
   "source": [
    "accident.dtypes"
   ]
  },
  {
   "cell_type": "markdown",
   "id": "0c50a3be-8c17-42db-af51-57fc31807eb1",
   "metadata": {},
   "source": [
    "<h3>Clearing any Inconsistencies with the Data Set</h3>"
   ]
  },
  {
   "cell_type": "code",
   "execution_count": 95,
   "id": "1653acc8-00ec-4574-a941-2940b64839c0",
   "metadata": {},
   "outputs": [],
   "source": [
    "accident['Accident Date'] = accident['Accident Date'].str.strip()\n",
    "accident['Accident Date'] = accident['Accident Date'].astype('str')\n",
    "accident['Accident Date'] = accident['Accident Date'].str.replace('/','-')"
   ]
  },
  {
   "cell_type": "code",
   "execution_count": 96,
   "id": "56e05465-8632-4384-a765-9fc9b1d33126",
   "metadata": {},
   "outputs": [],
   "source": [
    "accident['Accident Date'] = pd.to_datetime(accident['Accident Date'],dayfirst = True, errors = 'coerce')"
   ]
  },
  {
   "cell_type": "markdown",
   "id": "cb49d5db-ea78-40ae-87a9-9b3a99cc727e",
   "metadata": {},
   "source": [
    "<h3>Etracting Date Information using pandas Date Time</h3>"
   ]
  },
  {
   "cell_type": "code",
   "execution_count": 97,
   "id": "24249853-2720-4cb9-9cdc-bbf61f611ae8",
   "metadata": {},
   "outputs": [],
   "source": [
    "\n",
    "accident[\"Accident Date\"] = pd.to_datetime(accident[\"Accident Date\"], errors=\"coerce\")\n",
    "\n",
    "\n",
    "accident['Year'] = accident['Accident Date'].dt.year\n",
    "accident['Month'] = accident['Accident Date'].dt.month\n",
    "accident['Day'] = accident['Accident Date'].dt.day\n",
    "accident['DayOfWeek'] = accident['Accident Date'].dt.dayofweek\n"
   ]
  },
  {
   "cell_type": "code",
   "execution_count": 98,
   "id": "e9324802-619a-45e2-9c2e-c83b14e00a55",
   "metadata": {},
   "outputs": [
    {
     "data": {
      "text/plain": [
       "Index                      0\n",
       "Accident_Severity          0\n",
       "Accident Date              0\n",
       "Latitude                   0\n",
       "Light_Conditions           0\n",
       "District Area              0\n",
       "Longitude                  0\n",
       "Number_of_Casualties       0\n",
       "Number_of_Vehicles         0\n",
       "Road_Surface_Conditions    0\n",
       "Road_Type                  0\n",
       "Urban_or_Rural_Area        0\n",
       "Weather_Conditions         0\n",
       "Vehicle_Type               0\n",
       "Year                       0\n",
       "Month                      0\n",
       "Day                        0\n",
       "DayOfWeek                  0\n",
       "dtype: int64"
      ]
     },
     "execution_count": 98,
     "metadata": {},
     "output_type": "execute_result"
    }
   ],
   "source": [
    "accident.isnull().sum()"
   ]
  },
  {
   "cell_type": "markdown",
   "id": "3d6236b4-c32a-4cef-abee-707fc50cffcd",
   "metadata": {},
   "source": [
    "## 1. What is the distribution of accident severity?"
   ]
  },
  {
   "cell_type": "code",
   "execution_count": 99,
   "id": "c33f3835-1693-45c3-a2ea-1f1d3c38b0c6",
   "metadata": {},
   "outputs": [
    {
     "data": {
      "text/plain": [
       "Accident_Severity\n",
       "Slight     563801\n",
       "Serious     88217\n",
       "Fatal        8661\n",
       "Name: count, dtype: int64"
      ]
     },
     "execution_count": 99,
     "metadata": {},
     "output_type": "execute_result"
    }
   ],
   "source": [
    "accident['Accident_Severity'].value_counts()"
   ]
  },
  {
   "cell_type": "markdown",
   "id": "9bfee8d6-84e5-4d3a-aa7a-275a1fba2bca",
   "metadata": {},
   "source": [
    "<h3>Insight: Most accidents are classified as Slight, while Serious and Fatal accidents are less frequent, showing that severe crashes are relatively rare.</h3>"
   ]
  },
  {
   "cell_type": "markdown",
   "id": "ea3ab401-fd3a-42c1-a144-7f58370f8cd8",
   "metadata": {},
   "source": [
    "### 2. What is the average number of casualties per accident severity?"
   ]
  },
  {
   "cell_type": "code",
   "execution_count": 100,
   "id": "2ce7b82f-3cb7-4059-9935-46fcf59cacce",
   "metadata": {},
   "outputs": [
    {
     "data": {
      "text/plain": [
       "Accident_Severity\n",
       "Fatal      1.903129\n",
       "Serious    1.467280\n",
       "Slight     1.331402\n",
       "Name: Number_of_Casualties, dtype: float64"
      ]
     },
     "execution_count": 100,
     "metadata": {},
     "output_type": "execute_result"
    }
   ],
   "source": [
    "accident.groupby('Accident_Severity')['Number_of_Casualties'].mean()"
   ]
  },
  {
   "cell_type": "markdown",
   "id": "3516f9c3-aea2-47b0-b812-c6987422d276",
   "metadata": {},
   "source": [
    "<h3>Insight: Fatal accidents, although less common, tend to result in more casualties per incident.</h3>"
   ]
  },
  {
   "cell_type": "markdown",
   "id": "edbba90a-cc1e-415a-ad7f-be5a48ccf42a",
   "metadata": {},
   "source": [
    "<h3>3. Do more accidents occur in urban or rural areas?</h3>"
   ]
  },
  {
   "cell_type": "code",
   "execution_count": 101,
   "id": "45452ddb-2b08-45e8-a52d-4294a09f6a8c",
   "metadata": {},
   "outputs": [
    {
     "data": {
      "text/plain": [
       "Urban_or_Rural_Area\n",
       "Urban          421678\n",
       "Rural          238990\n",
       "Unallocated        11\n",
       "Name: count, dtype: int64"
      ]
     },
     "execution_count": 101,
     "metadata": {},
     "output_type": "execute_result"
    }
   ],
   "source": [
    "accident['Urban_or_Rural_Area'].value_counts(dropna=False)"
   ]
  },
  {
   "cell_type": "markdown",
   "id": "db9e7cd9-06e5-42b7-af23-0552ced510aa",
   "metadata": {},
   "source": [
    "<h3>Insight: Urban areas usually record more accidents due to higher traffic density; Rural areas may have fewer crashes but at higher speeds, often more severe.</h3>"
   ]
  },
  {
   "cell_type": "markdown",
   "id": "f539c441-ea74-4555-99f1-e0a6df5ac21a",
   "metadata": {},
   "source": [
    "<h3>4. Which road types report the highest number of accidents?</h3>"
   ]
  },
  {
   "cell_type": "code",
   "execution_count": 102,
   "id": "483a6dca-19b2-4de8-9eae-1783b8f4a697",
   "metadata": {},
   "outputs": [
    {
     "data": {
      "text/plain": [
       "Road_Type\n",
       "Single carriageway    496663\n",
       "Dual carriageway       99424\n",
       "Roundabout             43992\n",
       "One way street         13559\n",
       "Slip road               7041\n",
       "Name: count, dtype: int64"
      ]
     },
     "execution_count": 102,
     "metadata": {},
     "output_type": "execute_result"
    }
   ],
   "source": [
    "accident['Road_Type'].value_counts(dropna=False).head(10)"
   ]
  },
  {
   "cell_type": "markdown",
   "id": "81988e5e-b853-44d2-9359-40f10c2833e6",
   "metadata": {},
   "source": [
    "<h3>Insight: Single carriageways often dominate counts, possibly because they carry mixed traffic without physical separation.</h3>"
   ]
  },
  {
   "cell_type": "markdown",
   "id": "9e801989-1aa5-497f-9e89-f6c80c9004e0",
   "metadata": {},
   "source": [
    "<h3>5. Which road surface condition has the highest accident rate?</h3>"
   ]
  },
  {
   "cell_type": "code",
   "execution_count": 103,
   "id": "3645ff68-8934-4e3c-9ba7-6cf38fe82aa0",
   "metadata": {},
   "outputs": [
    {
     "data": {
      "text/plain": [
       "Road_Surface_Conditions\n",
       "Dry                     448547\n",
       "Wet or damp             186708\n",
       "Frost or ice             18517\n",
       "Snow                      5890\n",
       "Flood over 3cm. deep      1017\n",
       "Name: count, dtype: int64"
      ]
     },
     "execution_count": 103,
     "metadata": {},
     "output_type": "execute_result"
    }
   ],
   "source": [
    "accident['Road_Surface_Conditions'].value_counts()"
   ]
  },
  {
   "cell_type": "markdown",
   "id": "66b096a0-812d-4b8f-8191-dd4a44a06e98",
   "metadata": {},
   "source": [
    "<h3>Insight: Dry roads show the highest accident count, likely because most travel occurs in dry conditions.</h3>"
   ]
  },
  {
   "cell_type": "markdown",
   "id": "6d399812-1eef-46d4-9a94-54b0caa78b70",
   "metadata": {},
   "source": [
    "<h3>6. Do most accidents occur in daylight or darkness?</h3>"
   ]
  },
  {
   "cell_type": "code",
   "execution_count": 104,
   "id": "04a31c25-beb9-4df9-bb23-ccb3d2b45537",
   "metadata": {},
   "outputs": [
    {
     "data": {
      "text/plain": [
       "Light_Conditions\n",
       "Daylight                       484880\n",
       "Darkness - lights lit          129335\n",
       "Darkness - no lighting          37437\n",
       "Darkness - lighting unknown      6484\n",
       "Darkness - lights unlit          2543\n",
       "Name: count, dtype: int64"
      ]
     },
     "execution_count": 104,
     "metadata": {},
     "output_type": "execute_result"
    }
   ],
   "source": [
    "accident['Light_Conditions'].value_counts()"
   ]
  },
  {
   "cell_type": "markdown",
   "id": "b6188370-dc06-44ac-b187-66b12ad19b79",
   "metadata": {},
   "source": [
    "<H3>Insight: Accidents are more frequent in daylight, but night crashes are often more severe.</H3>"
   ]
  },
  {
   "cell_type": "markdown",
   "id": "4d61eca4-8e4a-45f3-aad0-f2ee9ff2120b",
   "metadata": {},
   "source": [
    "<h3>7. Which light condition has the highest fatality rate?</h3>"
   ]
  },
  {
   "cell_type": "code",
   "execution_count": 105,
   "id": "2fac6faf-fafc-4ef9-b23d-445c11d27c41",
   "metadata": {},
   "outputs": [
    {
     "data": {
      "text/plain": [
       "Light_Conditions\n",
       "Daylight                       5076\n",
       "Darkness - lights lit          1860\n",
       "Darkness - no lighting         1612\n",
       "Darkness - lighting unknown      68\n",
       "Darkness - lights unlit          45\n",
       "Name: count, dtype: int64"
      ]
     },
     "execution_count": 105,
     "metadata": {},
     "output_type": "execute_result"
    }
   ],
   "source": [
    "accident[accident['Accident_Severity']=='Fatal']['Light_Conditions'].value_counts()"
   ]
  },
  {
   "cell_type": "markdown",
   "id": "20e184d6-dd93-4de4-8f63-81bf7ef65cf3",
   "metadata": {},
   "source": [
    "<h3>Insight: Darkness without streetlights shows a higher share of fatal accidents, highlighting visibility issues</h3>"
   ]
  },
  {
   "cell_type": "markdown",
   "id": "9836bf94-616a-469f-bd67-cc5b966f5e90",
   "metadata": {},
   "source": [
    "<h3>8. Which weather conditions are most common in accidents?</h3>"
   ]
  },
  {
   "cell_type": "code",
   "execution_count": 106,
   "id": "5c1a261e-e99d-405f-a5f8-0a57df9fadad",
   "metadata": {},
   "outputs": [
    {
     "data": {
      "text/plain": [
       "Weather_Conditions\n",
       "Fine no high winds       535013\n",
       "Raining no high winds     79696\n",
       "Other                     17150\n",
       "Raining + high winds       9615\n",
       "Fine + high winds          8554\n",
       "Snowing no high winds      6238\n",
       "Fog or mist                3528\n",
       "Snowing + high winds        885\n",
       "Name: count, dtype: int64"
      ]
     },
     "execution_count": 106,
     "metadata": {},
     "output_type": "execute_result"
    }
   ],
   "source": [
    "accident['Weather_Conditions'].value_counts().head(10)"
   ]
  },
  {
   "cell_type": "markdown",
   "id": "0a68ad70-6f8d-4f99-a095-69517cd1d39a",
   "metadata": {},
   "source": [
    "<h3>Insight: Fine weather accounts for the majority of accidents due to higher traffic, though bad weather raises accident severity.</h3>"
   ]
  },
  {
   "cell_type": "markdown",
   "id": "31ce752f-6ca6-4c40-95e6-cfb36549e03e",
   "metadata": {},
   "source": [
    "<h3>9. How does weather condition affect average casualties?</h3>"
   ]
  },
  {
   "cell_type": "code",
   "execution_count": 107,
   "id": "cb5b209b-4a0d-48eb-9c1d-1123dff6f681",
   "metadata": {},
   "outputs": [
    {
     "data": {
      "text/plain": [
       "Weather_Conditions\n",
       "Fine + high winds        1.386018\n",
       "Fine no high winds       1.347397\n",
       "Fog or mist              1.452948\n",
       "Other                    1.354869\n",
       "Raining + high winds     1.416641\n",
       "Raining no high winds    1.408214\n",
       "Snowing + high winds     1.418079\n",
       "Snowing no high winds    1.341776\n",
       "Name: Number_of_Casualties, dtype: float64"
      ]
     },
     "execution_count": 107,
     "metadata": {},
     "output_type": "execute_result"
    }
   ],
   "source": [
    "accident.groupby('Weather_Conditions')['Number_of_Casualties'].mean()"
   ]
  },
  {
   "cell_type": "markdown",
   "id": "0b51d756-1440-488f-94b5-61e2c3d60cf3",
   "metadata": {},
   "source": [
    "<h3>Insight: Fog or mist tends to have the highest average casualties per accident because of reduced visibility.</h3>"
   ]
  },
  {
   "cell_type": "markdown",
   "id": "59783553-025d-41d6-b230-657036942fe9",
   "metadata": {},
   "source": [
    "<h3>10. Which vehicle types are most often involved in accidents?</h3>"
   ]
  },
  {
   "cell_type": "code",
   "execution_count": 108,
   "id": "5781cf46-2b45-4cc9-8cbf-97794ac7cce7",
   "metadata": {},
   "outputs": [
    {
     "data": {
      "text/plain": [
       "Vehicle_Type\n",
       "Car                                      497992\n",
       "Van / Goods 3.5 tonnes mgw or under       34160\n",
       "Bus or coach (17 or more pass seats)      25878\n",
       "Motorcycle over 500cc                     25657\n",
       "Goods 7.5 tonnes mgw and over             17307\n",
       "Motorcycle 125cc and under                15269\n",
       "Taxi/Private hire car                     13294\n",
       "Motorcycle over 125cc and up to 500cc      7656\n",
       "Motorcycle 50cc and under                  7603\n",
       "Goods over 3.5t. and under 7.5t            6096\n",
       "Name: count, dtype: int64"
      ]
     },
     "execution_count": 108,
     "metadata": {},
     "output_type": "execute_result"
    }
   ],
   "source": [
    "accident['Vehicle_Type'].value_counts().head(10)"
   ]
  },
  {
   "cell_type": "markdown",
   "id": "3a7f2231-e685-4c2b-80fc-252b0ca5dbad",
   "metadata": {},
   "source": [
    "<h3>Insight: Cars dominate accident records, but motorcycles and bicycles are more vulnerable in serious crashes.</h3>"
   ]
  },
  {
   "cell_type": "markdown",
   "id": "cf2bdae4-5c6f-43e5-82ac-a9c4ef02536e",
   "metadata": {},
   "source": [
    "<h3>11. Which columns have the most missing data?</h3>"
   ]
  },
  {
   "cell_type": "code",
   "execution_count": 109,
   "id": "faf7f53a-a4c9-4456-a59a-16c99dd51675",
   "metadata": {},
   "outputs": [
    {
     "data": {
      "text/plain": [
       "Index                      0\n",
       "Accident_Severity          0\n",
       "Accident Date              0\n",
       "Latitude                   0\n",
       "Light_Conditions           0\n",
       "District Area              0\n",
       "Longitude                  0\n",
       "Number_of_Casualties       0\n",
       "Number_of_Vehicles         0\n",
       "Road_Surface_Conditions    0\n",
       "Road_Type                  0\n",
       "Urban_or_Rural_Area        0\n",
       "Weather_Conditions         0\n",
       "Vehicle_Type               0\n",
       "Year                       0\n",
       "Month                      0\n",
       "Day                        0\n",
       "DayOfWeek                  0\n",
       "dtype: int64"
      ]
     },
     "execution_count": 109,
     "metadata": {},
     "output_type": "execute_result"
    }
   ],
   "source": [
    "accident.isnull().sum().sort_values(ascending=False)"
   ]
  },
  {
   "cell_type": "markdown",
   "id": "d057075a-4a22-4198-a36a-ae2d54ff8beb",
   "metadata": {},
   "source": [
    "<h3>Insight: Weather and road type fields have noticeable missing values, which can affect reliability of analysis.</h3>"
   ]
  },
  {
   "cell_type": "markdown",
   "id": "17d68b21-6d44-4ff5-a211-d6e42d215af8",
   "metadata": {},
   "source": [
    "<h3>12. Do fatal accidents occur more often in urban or rural areas?</h3>"
   ]
  },
  {
   "cell_type": "code",
   "execution_count": 110,
   "id": "958ce3f0-f8dc-4587-a4ee-4061f7a25183",
   "metadata": {},
   "outputs": [
    {
     "data": {
      "text/plain": [
       "Urban_or_Rural_Area\n",
       "Rural          5601\n",
       "Urban          3060\n",
       "Unallocated       0\n",
       "Name: count, dtype: int64"
      ]
     },
     "execution_count": 110,
     "metadata": {},
     "output_type": "execute_result"
    }
   ],
   "source": [
    "accident[accident['Accident_Severity']=='Fatal']['Urban_or_Rural_Area'].value_counts()"
   ]
  },
  {
   "cell_type": "markdown",
   "id": "2264d7f2-9675-4a92-8a8a-e135acad8b6c",
   "metadata": {},
   "source": [
    "<h3>Insight:Rural areas, though less frequent overall, often see more fatal outcomes due to high-speed crashes.</h3>"
   ]
  },
  {
   "cell_type": "markdown",
   "id": "feb0c4ff-2e2b-4532-bd6a-59e72d50e55c",
   "metadata": {},
   "source": [
    "<h3>13. Which vehicle types are most common in fatal accidents?</h3>"
   ]
  },
  {
   "cell_type": "code",
   "execution_count": 111,
   "id": "d0ef2bcf-4d1e-4135-81a9-d9068080aeff",
   "metadata": {},
   "outputs": [
    {
     "data": {
      "text/plain": [
       "Vehicle_Type\n",
       "Car                                      6577\n",
       "Van / Goods 3.5 tonnes mgw or under       467\n",
       "Motorcycle over 500cc                     339\n",
       "Bus or coach (17 or more pass seats)      325\n",
       "Goods 7.5 tonnes mgw and over             216\n",
       "Motorcycle 125cc and under                189\n",
       "Taxi/Private hire car                     155\n",
       "Motorcycle over 125cc and up to 500cc     105\n",
       "Motorcycle 50cc and under                  95\n",
       "Other vehicle                              70\n",
       "Name: count, dtype: int64"
      ]
     },
     "execution_count": 111,
     "metadata": {},
     "output_type": "execute_result"
    }
   ],
   "source": [
    "accident[accident['Accident_Severity']=='Fatal']['Vehicle_Type'].value_counts().head(10)"
   ]
  },
  {
   "cell_type": "markdown",
   "id": "324e09f8-a715-4485-a786-68410244dc54",
   "metadata": {},
   "source": [
    "<h3>Insight: Cars are most frequent, but motorcycles show disproportionately high fatality risks.</h3>"
   ]
  },
  {
   "cell_type": "markdown",
   "id": "22666ca2-2051-4c44-a411-075186a70ef8",
   "metadata": {},
   "source": [
    "<h3>14.  Which weather conditions are most common in fatal accidents?</h3>"
   ]
  },
  {
   "cell_type": "code",
   "execution_count": 112,
   "id": "1da1d0a6-8661-4815-af32-289508e105ec",
   "metadata": {},
   "outputs": [
    {
     "data": {
      "text/plain": [
       "Weather_Conditions\n",
       "Fine no high winds       7207\n",
       "Raining no high winds     848\n",
       "Fine + high winds         175\n",
       "Other                     165\n",
       "Raining + high winds      145\n",
       "Fog or mist                82\n",
       "Snowing no high winds      36\n",
       "Snowing + high winds        3\n",
       "Name: count, dtype: int64"
      ]
     },
     "execution_count": 112,
     "metadata": {},
     "output_type": "execute_result"
    }
   ],
   "source": [
    "accident[accident['Accident_Severity']=='Fatal']['Weather_Conditions'].value_counts().head(10)"
   ]
  },
  {
   "cell_type": "markdown",
   "id": "2a7db096-7719-4721-b358-82099ef5d60e",
   "metadata": {},
   "source": [
    "<h3>Insight: Fatal crashes are more frequent in clear weather, showing traffic exposure plays a large role.</h3>"
   ]
  },
  {
   "cell_type": "markdown",
   "id": "778c5819-e031-4e63-8ded-525f41b6aa86",
   "metadata": {},
   "source": [
    "<h3>15. Which district areas report the most accidents?</h3>"
   ]
  },
  {
   "cell_type": "code",
   "execution_count": 113,
   "id": "8df69586-6fe4-4a34-9b70-d0402ba5e1b9",
   "metadata": {},
   "outputs": [
    {
     "data": {
      "text/plain": [
       "District Area\n",
       "Birmingham          13491\n",
       "Leeds                8898\n",
       "Manchester           6720\n",
       "Bradford             6212\n",
       "Sheffield            5710\n",
       "Westminster          5706\n",
       "Liverpool            5587\n",
       "Glasgow City         4942\n",
       "Bristol, City of     4819\n",
       "Kirklees             4690\n",
       "Name: count, dtype: int64"
      ]
     },
     "execution_count": 113,
     "metadata": {},
     "output_type": "execute_result"
    }
   ],
   "source": [
    "accident['District Area'].value_counts().head(10)"
   ]
  },
  {
   "cell_type": "markdown",
   "id": "b3b488d7-57ae-42c4-961b-27ffde8d5c2b",
   "metadata": {},
   "source": [
    "<h3>Insight: Highly populated urban districts are hotspots for accidents.</h3>"
   ]
  },
  {
   "cell_type": "markdown",
   "id": "f9d7bb9b-fb59-4244-b967-4ed19a54163b",
   "metadata": {},
   "source": [
    "<h3>16. Which months record the highest number of accidents?</h3>"
   ]
  },
  {
   "cell_type": "code",
   "execution_count": 114,
   "id": "ed362f5b-3583-4e94-9d69-95993d862184",
   "metadata": {},
   "outputs": [
    {
     "data": {
      "text/plain": [
       "Month\n",
       "1     52872\n",
       "2     49491\n",
       "3     54086\n",
       "4     51744\n",
       "5     56352\n",
       "6     56481\n",
       "7     57445\n",
       "8     53913\n",
       "9     56455\n",
       "10    59580\n",
       "11    60424\n",
       "12    51836\n",
       "Name: count, dtype: int64"
      ]
     },
     "execution_count": 114,
     "metadata": {},
     "output_type": "execute_result"
    }
   ],
   "source": [
    "accident['Accident Date'] = pd.to_datetime(accident['Accident Date'], errors='coerce', dayfirst=True)\n",
    "accident['Month'] = accident['Accident Date'].dt.month\n",
    "accident['Month'].value_counts().sort_index()"
   ]
  },
  {
   "cell_type": "markdown",
   "id": "32293301-64b8-4d14-a1fd-a913eb693deb",
   "metadata": {},
   "source": [
    "<h3>Insight: Seasonal peaks in accidents may occur during summer holidays or winter weather conditions.</h3>"
   ]
  },
  {
   "cell_type": "markdown",
   "id": "0aa4b11f-77a4-4947-aaea-be3558ae097a",
   "metadata": {},
   "source": [
    "<h3>17. What is the distribution of casualties per accident?:</h3>"
   ]
  },
  {
   "cell_type": "code",
   "execution_count": 115,
   "id": "1573d346-d9bd-4bc5-9b79-204d457c054d",
   "metadata": {},
   "outputs": [
    {
     "data": {
      "text/plain": [
       "Number_of_Casualties\n",
       "1     504041\n",
       "2     107971\n",
       "3      30776\n",
       "4      11156\n",
       "5       4123\n",
       "6       1525\n",
       "7        539\n",
       "8        214\n",
       "9        112\n",
       "10        58\n",
       "11        36\n",
       "12        21\n",
       "13        24\n",
       "14        13\n",
       "15        11\n",
       "Name: count, dtype: int64"
      ]
     },
     "execution_count": 115,
     "metadata": {},
     "output_type": "execute_result"
    }
   ],
   "source": [
    "accident['Number_of_Casualties'].value_counts().sort_index().head(15)"
   ]
  },
  {
   "cell_type": "markdown",
   "id": "3f7c6103-8798-4334-8498-53fca1a1c5c8",
   "metadata": {},
   "source": [
    "<h3>Insight: The majority of accidents involve a single casualty, but some accidents cause multiple injuries.</h3>"
   ]
  },
  {
   "cell_type": "markdown",
   "id": "91c00bd7-557c-4892-aba2-17425f14d5bf",
   "metadata": {},
   "source": [
    "<h3>18. What is the distribution of the number of vehicles involved in accidents?</h3>"
   ]
  },
  {
   "cell_type": "code",
   "execution_count": 116,
   "id": "796a20c1-2b01-4628-9e5f-a7637dbf5719",
   "metadata": {},
   "outputs": [
    {
     "data": {
      "text/plain": [
       "Number_of_Vehicles\n",
       "1     200787\n",
       "2     391995\n",
       "3      52806\n",
       "4      11300\n",
       "5       2464\n",
       "6        758\n",
       "7        296\n",
       "8        147\n",
       "9         57\n",
       "10        27\n",
       "11        12\n",
       "12         7\n",
       "13         6\n",
       "14         9\n",
       "15         1\n",
       "16         4\n",
       "19         1\n",
       "28         1\n",
       "32         1\n",
       "Name: count, dtype: int64"
      ]
     },
     "execution_count": 116,
     "metadata": {},
     "output_type": "execute_result"
    }
   ],
   "source": [
    "accident['Number_of_Vehicles'].value_counts().sort_index()"
   ]
  },
  {
   "cell_type": "markdown",
   "id": "84eb897a-1c8e-47cd-bb5f-0686260235fc",
   "metadata": {},
   "source": [
    "<h3>Isight: Most accidents involve 2 vehicles, but multi-vehicle collisions lead to higher casualty counts.</h3>"
   ]
  },
  {
   "cell_type": "markdown",
   "id": "5249b398-f744-4c2e-a133-afd427b71d98",
   "metadata": {},
   "source": [
    "<h3>19. Do buses or cars result in more casualties per accident?</h3>"
   ]
  },
  {
   "cell_type": "code",
   "execution_count": 117,
   "id": "5bb3180e-7ee1-4091-9f78-fad5bec20092",
   "metadata": {},
   "outputs": [
    {
     "data": {
      "text/plain": [
       "Vehicle_Type\n",
       "Data missing or out of range            1.500000\n",
       "Pedal cycle                             1.370558\n",
       "Taxi/Private hire car                   1.368663\n",
       "Goods over 3.5t. and under 7.5t         1.362861\n",
       "Motorcycle over 500cc                   1.359434\n",
       "Car                                     1.358841\n",
       "Van / Goods 3.5 tonnes mgw or under     1.354537\n",
       "Goods 7.5 tonnes mgw and over           1.351881\n",
       "Bus or coach (17 or more pass seats)    1.349216\n",
       "Minibus (8 - 16 passenger seats)        1.345648\n",
       "Name: Number_of_Casualties, dtype: float64"
      ]
     },
     "execution_count": 117,
     "metadata": {},
     "output_type": "execute_result"
    }
   ],
   "source": [
    "accident.groupby('Vehicle_Type')['Number_of_Casualties'].mean().sort_values(ascending=False).head(10)"
   ]
  },
  {
   "cell_type": "markdown",
   "id": "65c56af2-ae70-41da-af33-e8750adc6be6",
   "metadata": {},
   "source": [
    "<h3>Insight: Buses tend to involve more casualties per accident because they carry multiple passengers.</h3>"
   ]
  },
  {
   "cell_type": "markdown",
   "id": "690f5ae8-a5c3-4786-9edc-921a1e820a88",
   "metadata": {},
   "source": [
    "<h3>20.  Which days of the week see the most accidents?</h3>"
   ]
  },
  {
   "cell_type": "code",
   "execution_count": 118,
   "id": "1a547aea-0247-43f3-aa1e-056c3de9b829",
   "metadata": {},
   "outputs": [
    {
     "data": {
      "text/plain": [
       "DayOfWeek\n",
       "Saturday     107178\n",
       "Wednesday     99558\n",
       "Thursday      99511\n",
       "Friday        97900\n",
       "Tuesday       94550\n",
       "Sunday        89302\n",
       "Monday        72680\n",
       "Name: count, dtype: int64"
      ]
     },
     "execution_count": 118,
     "metadata": {},
     "output_type": "execute_result"
    }
   ],
   "source": [
    "accident['DayOfWeek'] = accident['Accident Date'].dt.day_name()\n",
    "accident['DayOfWeek'].value_counts()"
   ]
  },
  {
   "cell_type": "markdown",
   "id": "3022a348-9c5a-460e-b779-1f1b166f6de8",
   "metadata": {},
   "source": [
    "<h3>Insight: Weekdays often show more accidents due to commuter traffic, while weekends may reflect leisure travel risks.</h3>"
   ]
  },
  {
   "cell_type": "markdown",
   "id": "5e709554-8d36-4fb3-bf52-69cebdcddb9c",
   "metadata": {},
   "source": [
    "<H3>21. Accident severity based on area of loacation(Rural or Urban)"
   ]
  },
  {
   "cell_type": "code",
   "execution_count": 119,
   "id": "90040d1b-1f71-4976-bd18-be515c21358d",
   "metadata": {},
   "outputs": [],
   "source": [
    "severity = accident.groupby(['Accident_Severity','Urban_or_Rural_Area']).size()"
   ]
  },
  {
   "cell_type": "code",
   "execution_count": 120,
   "id": "49fd8a65-5412-42c7-8fca-643b70180699",
   "metadata": {},
   "outputs": [
    {
     "data": {
      "text/html": [
       "<div>\n",
       "<style scoped>\n",
       "    .dataframe tbody tr th:only-of-type {\n",
       "        vertical-align: middle;\n",
       "    }\n",
       "\n",
       "    .dataframe tbody tr th {\n",
       "        vertical-align: top;\n",
       "    }\n",
       "\n",
       "    .dataframe thead th {\n",
       "        text-align: right;\n",
       "    }\n",
       "</style>\n",
       "<table border=\"1\" class=\"dataframe\">\n",
       "  <thead>\n",
       "    <tr style=\"text-align: right;\">\n",
       "      <th>Urban_or_Rural_Area</th>\n",
       "      <th>Rural</th>\n",
       "      <th>Unallocated</th>\n",
       "      <th>Urban</th>\n",
       "    </tr>\n",
       "    <tr>\n",
       "      <th>Accident_Severity</th>\n",
       "      <th></th>\n",
       "      <th></th>\n",
       "      <th></th>\n",
       "    </tr>\n",
       "  </thead>\n",
       "  <tbody>\n",
       "    <tr>\n",
       "      <th>Fatal</th>\n",
       "      <td>5601</td>\n",
       "      <td>0</td>\n",
       "      <td>3060</td>\n",
       "    </tr>\n",
       "    <tr>\n",
       "      <th>Serious</th>\n",
       "      <td>37312</td>\n",
       "      <td>1</td>\n",
       "      <td>50904</td>\n",
       "    </tr>\n",
       "    <tr>\n",
       "      <th>Slight</th>\n",
       "      <td>196077</td>\n",
       "      <td>10</td>\n",
       "      <td>367714</td>\n",
       "    </tr>\n",
       "  </tbody>\n",
       "</table>\n",
       "</div>"
      ],
      "text/plain": [
       "Urban_or_Rural_Area   Rural  Unallocated   Urban\n",
       "Accident_Severity                               \n",
       "Fatal                  5601            0    3060\n",
       "Serious               37312            1   50904\n",
       "Slight               196077           10  367714"
      ]
     },
     "execution_count": 120,
     "metadata": {},
     "output_type": "execute_result"
    }
   ],
   "source": [
    "severity.unstack()"
   ]
  },
  {
   "cell_type": "markdown",
   "id": "8732320d-b313-4501-b9f3-723e1783afe9",
   "metadata": {},
   "source": [
    "\n",
    "<h3>Insight: There are more fatal accidents in rural areas, serious and slight accidents on Urban areas</h3>"
   ]
  },
  {
   "cell_type": "markdown",
   "id": "74fd2be7-9d7a-4c03-a992-a39850460956",
   "metadata": {},
   "source": [
    "<H3>22. Accident severity based on vehicle type, what type of vehicle is likely to have a fatal accident?</H3>"
   ]
  },
  {
   "cell_type": "code",
   "execution_count": 121,
   "id": "c76052e4-b685-4e90-afef-30ad5a1a41a2",
   "metadata": {},
   "outputs": [],
   "source": [
    "severity2 = accident.groupby(['Accident_Severity','Vehicle_Type']).size()"
   ]
  },
  {
   "cell_type": "code",
   "execution_count": 122,
   "id": "f3fbb99a-656b-40f8-91a4-0a022da3c58a",
   "metadata": {},
   "outputs": [
    {
     "data": {
      "text/html": [
       "<div>\n",
       "<style scoped>\n",
       "    .dataframe tbody tr th:only-of-type {\n",
       "        vertical-align: middle;\n",
       "    }\n",
       "\n",
       "    .dataframe tbody tr th {\n",
       "        vertical-align: top;\n",
       "    }\n",
       "\n",
       "    .dataframe thead th {\n",
       "        text-align: right;\n",
       "    }\n",
       "</style>\n",
       "<table border=\"1\" class=\"dataframe\">\n",
       "  <thead>\n",
       "    <tr style=\"text-align: right;\">\n",
       "      <th>Vehicle_Type</th>\n",
       "      <th>Agricultural vehicle</th>\n",
       "      <th>Bus or coach (17 or more pass seats)</th>\n",
       "      <th>Car</th>\n",
       "      <th>Data missing or out of range</th>\n",
       "      <th>Goods 7.5 tonnes mgw and over</th>\n",
       "      <th>Goods over 3.5t. and under 7.5t</th>\n",
       "      <th>Minibus (8 - 16 passenger seats)</th>\n",
       "      <th>Motorcycle 125cc and under</th>\n",
       "      <th>Motorcycle 50cc and under</th>\n",
       "      <th>Motorcycle over 125cc and up to 500cc</th>\n",
       "      <th>Motorcycle over 500cc</th>\n",
       "      <th>Other vehicle</th>\n",
       "      <th>Pedal cycle</th>\n",
       "      <th>Ridden horse</th>\n",
       "      <th>Taxi/Private hire car</th>\n",
       "      <th>Van / Goods 3.5 tonnes mgw or under</th>\n",
       "    </tr>\n",
       "    <tr>\n",
       "      <th>Accident_Severity</th>\n",
       "      <th></th>\n",
       "      <th></th>\n",
       "      <th></th>\n",
       "      <th></th>\n",
       "      <th></th>\n",
       "      <th></th>\n",
       "      <th></th>\n",
       "      <th></th>\n",
       "      <th></th>\n",
       "      <th></th>\n",
       "      <th></th>\n",
       "      <th></th>\n",
       "      <th></th>\n",
       "      <th></th>\n",
       "      <th></th>\n",
       "      <th></th>\n",
       "    </tr>\n",
       "  </thead>\n",
       "  <tbody>\n",
       "    <tr>\n",
       "      <th>Fatal</th>\n",
       "      <td>21</td>\n",
       "      <td>325</td>\n",
       "      <td>6577</td>\n",
       "      <td>0</td>\n",
       "      <td>216</td>\n",
       "      <td>67</td>\n",
       "      <td>29</td>\n",
       "      <td>189</td>\n",
       "      <td>95</td>\n",
       "      <td>105</td>\n",
       "      <td>339</td>\n",
       "      <td>70</td>\n",
       "      <td>6</td>\n",
       "      <td>0</td>\n",
       "      <td>155</td>\n",
       "      <td>467</td>\n",
       "    </tr>\n",
       "    <tr>\n",
       "      <th>Serious</th>\n",
       "      <td>282</td>\n",
       "      <td>3373</td>\n",
       "      <td>66461</td>\n",
       "      <td>0</td>\n",
       "      <td>2321</td>\n",
       "      <td>857</td>\n",
       "      <td>276</td>\n",
       "      <td>2031</td>\n",
       "      <td>1014</td>\n",
       "      <td>1014</td>\n",
       "      <td>3457</td>\n",
       "      <td>767</td>\n",
       "      <td>39</td>\n",
       "      <td>0</td>\n",
       "      <td>1771</td>\n",
       "      <td>4554</td>\n",
       "    </tr>\n",
       "    <tr>\n",
       "      <th>Slight</th>\n",
       "      <td>1644</td>\n",
       "      <td>22180</td>\n",
       "      <td>424954</td>\n",
       "      <td>6</td>\n",
       "      <td>14770</td>\n",
       "      <td>5172</td>\n",
       "      <td>1671</td>\n",
       "      <td>13049</td>\n",
       "      <td>6494</td>\n",
       "      <td>6537</td>\n",
       "      <td>21861</td>\n",
       "      <td>4800</td>\n",
       "      <td>152</td>\n",
       "      <td>4</td>\n",
       "      <td>11368</td>\n",
       "      <td>29139</td>\n",
       "    </tr>\n",
       "  </tbody>\n",
       "</table>\n",
       "</div>"
      ],
      "text/plain": [
       "Vehicle_Type       Agricultural vehicle  Bus or coach (17 or more pass seats)  \\\n",
       "Accident_Severity                                                               \n",
       "Fatal                                21                                   325   \n",
       "Serious                             282                                  3373   \n",
       "Slight                             1644                                 22180   \n",
       "\n",
       "Vehicle_Type          Car  Data missing or out of range  \\\n",
       "Accident_Severity                                         \n",
       "Fatal                6577                             0   \n",
       "Serious             66461                             0   \n",
       "Slight             424954                             6   \n",
       "\n",
       "Vehicle_Type       Goods 7.5 tonnes mgw and over  \\\n",
       "Accident_Severity                                  \n",
       "Fatal                                        216   \n",
       "Serious                                     2321   \n",
       "Slight                                     14770   \n",
       "\n",
       "Vehicle_Type       Goods over 3.5t. and under 7.5t  \\\n",
       "Accident_Severity                                    \n",
       "Fatal                                           67   \n",
       "Serious                                        857   \n",
       "Slight                                        5172   \n",
       "\n",
       "Vehicle_Type       Minibus (8 - 16 passenger seats)  \\\n",
       "Accident_Severity                                     \n",
       "Fatal                                            29   \n",
       "Serious                                         276   \n",
       "Slight                                         1671   \n",
       "\n",
       "Vehicle_Type       Motorcycle 125cc and under  Motorcycle 50cc and under  \\\n",
       "Accident_Severity                                                          \n",
       "Fatal                                     189                         95   \n",
       "Serious                                  2031                       1014   \n",
       "Slight                                  13049                       6494   \n",
       "\n",
       "Vehicle_Type       Motorcycle over 125cc and up to 500cc  \\\n",
       "Accident_Severity                                          \n",
       "Fatal                                                105   \n",
       "Serious                                             1014   \n",
       "Slight                                              6537   \n",
       "\n",
       "Vehicle_Type       Motorcycle over 500cc  Other vehicle  Pedal cycle  \\\n",
       "Accident_Severity                                                      \n",
       "Fatal                                339             70            6   \n",
       "Serious                             3457            767           39   \n",
       "Slight                             21861           4800          152   \n",
       "\n",
       "Vehicle_Type       Ridden horse  Taxi/Private hire car  \\\n",
       "Accident_Severity                                        \n",
       "Fatal                         0                    155   \n",
       "Serious                       0                   1771   \n",
       "Slight                        4                  11368   \n",
       "\n",
       "Vehicle_Type       Van / Goods 3.5 tonnes mgw or under  \n",
       "Accident_Severity                                       \n",
       "Fatal                                              467  \n",
       "Serious                                           4554  \n",
       "Slight                                           29139  "
      ]
     },
     "execution_count": 122,
     "metadata": {},
     "output_type": "execute_result"
    }
   ],
   "source": [
    "severity2.unstack()"
   ]
  },
  {
   "cell_type": "markdown",
   "id": "f2ad4da0-8158-4c59-baec-891198248738",
   "metadata": {},
   "source": [
    "<h3>Insight: There is a high chance that cars can have fatal accidents, followed by motorcyles and vans</h3>"
   ]
  },
  {
   "cell_type": "markdown",
   "id": "dc73e15e-1b77-46df-982d-64a0888221e5",
   "metadata": {},
   "source": [
    "\n",
    "<H3>23. Number of accident severity</H3>"
   ]
  },
  {
   "cell_type": "code",
   "execution_count": 123,
   "id": "0a0fc155-dad4-4401-ac0b-0552c65422cc",
   "metadata": {},
   "outputs": [
    {
     "data": {
      "text/plain": [
       "Accident_Severity\n",
       "Slight     563801\n",
       "Serious     88217\n",
       "Fatal        8661\n",
       "Name: count, dtype: int64"
      ]
     },
     "execution_count": 123,
     "metadata": {},
     "output_type": "execute_result"
    }
   ],
   "source": [
    "accident['Accident_Severity'].value_counts()"
   ]
  },
  {
   "cell_type": "markdown",
   "id": "eefd6e50-632f-456b-97ce-6c0588f87895",
   "metadata": {},
   "source": [
    "\n",
    "\n",
    "<h3>Insight: Accident severity has the following values: Slight 563,801 Serious 88,217 Fatal 8,661 </h3>"
   ]
  },
  {
   "cell_type": "markdown",
   "id": "d46af3c3-5c51-4a02-937a-cb3503da4578",
   "metadata": {},
   "source": [
    "<H3>24. Most common roadtype accident?</H3>"
   ]
  },
  {
   "cell_type": "code",
   "execution_count": 124,
   "id": "4b6d806e-63e9-49d7-9a9b-4b7520a966fe",
   "metadata": {},
   "outputs": [
    {
     "data": {
      "text/plain": [
       "Road_Type\n",
       "Single carriageway    496663\n",
       "Dual carriageway       99424\n",
       "Roundabout             43992\n",
       "One way street         13559\n",
       "Slip road               7041\n",
       "Name: count, dtype: int64"
      ]
     },
     "execution_count": 124,
     "metadata": {},
     "output_type": "execute_result"
    }
   ],
   "source": [
    "accident['Road_Type'].value_counts()"
   ]
  },
  {
   "cell_type": "markdown",
   "id": "e585decd-a90e-4a9a-9a2e-021a0ce9b9d2",
   "metadata": {},
   "source": [
    "<h3>Insight: There have been 75.17% of accidents recorded in Single carriageway type of road</h3>"
   ]
  },
  {
   "cell_type": "markdown",
   "id": "36daeec2-f604-4f84-a2d0-010ad2dae161",
   "metadata": {},
   "source": [
    "<H3>25 Accident by weather condition?</H3>"
   ]
  },
  {
   "cell_type": "code",
   "execution_count": 125,
   "id": "2078d6fa-4c1c-4469-8a33-4c4f22b3fb8e",
   "metadata": {},
   "outputs": [
    {
     "data": {
      "text/plain": [
       "Weather_Conditions\n",
       "Fine no high winds       535013\n",
       "Raining no high winds     79696\n",
       "Other                     17150\n",
       "Raining + high winds       9615\n",
       "Fine + high winds          8554\n",
       "Snowing no high winds      6238\n",
       "Fog or mist                3528\n",
       "Snowing + high winds        885\n",
       "Name: count, dtype: int64"
      ]
     },
     "execution_count": 125,
     "metadata": {},
     "output_type": "execute_result"
    }
   ],
   "source": [
    "accident['Weather_Conditions'].value_counts()"
   ]
  },
  {
   "cell_type": "markdown",
   "id": "a2f9af15-ae45-4b13-b2cd-3fbdcc7fcd44",
   "metadata": {},
   "source": [
    "<h3>Insight: There have been 80.56% of accidents recorded in Fine no high winds type of weather condition</h3>"
   ]
  },
  {
   "cell_type": "markdown",
   "id": "6e9313f6-47b3-450a-ae82-d4ea3c17fe6f",
   "metadata": {},
   "source": [
    "<h1>Data Visualization</h1>"
   ]
  },
  {
   "cell_type": "code",
   "execution_count": null,
   "id": "b89b2692-ec48-40be-991e-0b5289c5f504",
   "metadata": {},
   "outputs": [],
   "source": []
  },
  {
   "cell_type": "code",
   "execution_count": 146,
   "id": "bee719d4-2916-4671-a9b9-8cd50b4ef987",
   "metadata": {},
   "outputs": [],
   "source": [
    "kingston_df = accident[accident['District Area'] == 'Kingston upon Thames']"
   ]
  },
  {
   "cell_type": "code",
   "execution_count": 153,
   "id": "4bdaa3f7-a224-47aa-bfc3-b85d1bdde82d",
   "metadata": {},
   "outputs": [
    {
     "data": {
      "text/plain": [
       "<folium.plugins.heat_map.HeatMap at 0x2a28ba311d0>"
      ]
     },
     "execution_count": 153,
     "metadata": {},
     "output_type": "execute_result"
    }
   ],
   "source": [
    "import folium \n",
    "from folium.plugins import HeatMap\n",
    "\n",
    "locations = list(zip(kingston_df['Latitude'], kingston_df['Longitude']))\n",
    "Kingston_Map = folium.Map(location = [kingston_df['Latitude'].mean(), kingston_df['Longitude'].mean()],zoom_start =10)\n",
    "HeatMap(locations).add_to(Kingston_Map)"
   ]
  },
  {
   "cell_type": "code",
   "execution_count": 154,
   "id": "cbd3b48d-e351-459d-b88f-cdc1b024c374",
   "metadata": {},
   "outputs": [
    {
     "data": {
      "text/html": [
       "<div style=\"width:100%;\"><div style=\"position:relative;width:100%;height:0;padding-bottom:60%;\"><span style=\"color:#565656\">Make this Notebook Trusted to load map: File -> Trust Notebook</span><iframe srcdoc=\"&lt;!DOCTYPE html&gt;\n",
       "&lt;html&gt;\n",
       "&lt;head&gt;\n",
       "    \n",
       "    &lt;meta http-equiv=&quot;content-type&quot; content=&quot;text/html; charset=UTF-8&quot; /&gt;\n",
       "    \n",
       "        &lt;script&gt;\n",
       "            L_NO_TOUCH = false;\n",
       "            L_DISABLE_3D = false;\n",
       "        &lt;/script&gt;\n",
       "    \n",
       "    &lt;style&gt;html, body {width: 100%;height: 100%;margin: 0;padding: 0;}&lt;/style&gt;\n",
       "    &lt;style&gt;#map {position:absolute;top:0;bottom:0;right:0;left:0;}&lt;/style&gt;\n",
       "    &lt;script src=&quot;https://cdn.jsdelivr.net/npm/leaflet@1.9.3/dist/leaflet.js&quot;&gt;&lt;/script&gt;\n",
       "    &lt;script src=&quot;https://code.jquery.com/jquery-3.7.1.min.js&quot;&gt;&lt;/script&gt;\n",
       "    &lt;script src=&quot;https://cdn.jsdelivr.net/npm/bootstrap@5.2.2/dist/js/bootstrap.bundle.min.js&quot;&gt;&lt;/script&gt;\n",
       "    &lt;script src=&quot;https://cdnjs.cloudflare.com/ajax/libs/Leaflet.awesome-markers/2.0.2/leaflet.awesome-markers.js&quot;&gt;&lt;/script&gt;\n",
       "    &lt;link rel=&quot;stylesheet&quot; href=&quot;https://cdn.jsdelivr.net/npm/leaflet@1.9.3/dist/leaflet.css&quot;/&gt;\n",
       "    &lt;link rel=&quot;stylesheet&quot; href=&quot;https://cdn.jsdelivr.net/npm/bootstrap@5.2.2/dist/css/bootstrap.min.css&quot;/&gt;\n",
       "    &lt;link rel=&quot;stylesheet&quot; href=&quot;https://netdna.bootstrapcdn.com/bootstrap/3.0.0/css/bootstrap-glyphicons.css&quot;/&gt;\n",
       "    &lt;link rel=&quot;stylesheet&quot; href=&quot;https://cdn.jsdelivr.net/npm/@fortawesome/fontawesome-free@6.2.0/css/all.min.css&quot;/&gt;\n",
       "    &lt;link rel=&quot;stylesheet&quot; href=&quot;https://cdnjs.cloudflare.com/ajax/libs/Leaflet.awesome-markers/2.0.2/leaflet.awesome-markers.css&quot;/&gt;\n",
       "    &lt;link rel=&quot;stylesheet&quot; href=&quot;https://cdn.jsdelivr.net/gh/python-visualization/folium/folium/templates/leaflet.awesome.rotate.min.css&quot;/&gt;\n",
       "    \n",
       "            &lt;meta name=&quot;viewport&quot; content=&quot;width=device-width,\n",
       "                initial-scale=1.0, maximum-scale=1.0, user-scalable=no&quot; /&gt;\n",
       "            &lt;style&gt;\n",
       "                #map_9ca46a7aaff4d62a4cedabdddb6aadbb {\n",
       "                    position: relative;\n",
       "                    width: 100.0%;\n",
       "                    height: 100.0%;\n",
       "                    left: 0.0%;\n",
       "                    top: 0.0%;\n",
       "                }\n",
       "                .leaflet-container { font-size: 1rem; }\n",
       "            &lt;/style&gt;\n",
       "        \n",
       "    &lt;script src=&quot;https://cdn.jsdelivr.net/gh/python-visualization/folium@main/folium/templates/leaflet_heat.min.js&quot;&gt;&lt;/script&gt;\n",
       "&lt;/head&gt;\n",
       "&lt;body&gt;\n",
       "    \n",
       "    \n",
       "            &lt;div class=&quot;folium-map&quot; id=&quot;map_9ca46a7aaff4d62a4cedabdddb6aadbb&quot; &gt;&lt;/div&gt;\n",
       "        \n",
       "&lt;/body&gt;\n",
       "&lt;script&gt;\n",
       "    \n",
       "    \n",
       "            var map_9ca46a7aaff4d62a4cedabdddb6aadbb = L.map(\n",
       "                &quot;map_9ca46a7aaff4d62a4cedabdddb6aadbb&quot;,\n",
       "                {\n",
       "                    center: [51.39527618731989, -0.28695954682997116],\n",
       "                    crs: L.CRS.EPSG3857,\n",
       "                    ...{\n",
       "  &quot;zoom&quot;: 10,\n",
       "  &quot;zoomControl&quot;: true,\n",
       "  &quot;preferCanvas&quot;: false,\n",
       "}\n",
       "\n",
       "                }\n",
       "            );\n",
       "\n",
       "            \n",
       "\n",
       "        \n",
       "    \n",
       "            var tile_layer_b355837668e8267dfba73ccf5db30ba7 = L.tileLayer(\n",
       "                &quot;https://tile.openstreetmap.org/{z}/{x}/{y}.png&quot;,\n",
       "                {\n",
       "  &quot;minZoom&quot;: 0,\n",
       "  &quot;maxZoom&quot;: 19,\n",
       "  &quot;maxNativeZoom&quot;: 19,\n",
       "  &quot;noWrap&quot;: false,\n",
       "  &quot;attribution&quot;: &quot;\\u0026copy; \\u003ca href=\\&quot;https://www.openstreetmap.org/copyright\\&quot;\\u003eOpenStreetMap\\u003c/a\\u003e contributors&quot;,\n",
       "  &quot;subdomains&quot;: &quot;abc&quot;,\n",
       "  &quot;detectRetina&quot;: false,\n",
       "  &quot;tms&quot;: false,\n",
       "  &quot;opacity&quot;: 1,\n",
       "}\n",
       "\n",
       "            );\n",
       "        \n",
       "    \n",
       "            tile_layer_b355837668e8267dfba73ccf5db30ba7.addTo(map_9ca46a7aaff4d62a4cedabdddb6aadbb);\n",
       "        \n",
       "    \n",
       "            var heat_map_5935383ac63b64950516604cbded8c97 = L.heatLayer(\n",
       "                [[51.393399, -0.304481], [51.405544, -0.280164], [51.407685, -0.303665], [51.382338, -0.28592], [51.417271, -0.288784], [51.398532, -0.255987], [51.430127, -0.307149], [51.398708, -0.255693], [51.409088, -0.301168], [51.341169, -0.318182], [51.413126, -0.300587], [51.415294, -0.301226], [51.378485, -0.280747], [51.374355, -0.299724], [51.361274, -0.309258], [51.341169, -0.318182], [51.410881, -0.300814], [51.377457, -0.302771], [51.363319, -0.295249], [51.383014, -0.276841], [51.365474, -0.295025], [51.412213, -0.299614], [51.413128, -0.300731], [51.425066, -0.27454], [51.376539, -0.282975], [51.393131, -0.304634], [51.435679, -0.256443], [51.385247, -0.30047], [51.385542, -0.296004], [51.375131, -0.303575], [51.417436, -0.30014], [51.410451, -0.302124], [51.401323, -0.256169], [51.341169, -0.318182], [51.413116, -0.275278], [51.412161, -0.289838], [51.38275, -0.277282], [51.362347, -0.290258], [51.409531, -0.263909], [51.412624, -0.284643], [51.380027, -0.281695], [51.401408, -0.267955], [51.419048, -0.250748], [51.375057, -0.304727], [51.410451, -0.302124], [51.391806, -0.245175], [51.401952, -0.305171], [51.390938, -0.247221], [51.412397, -0.287528], [51.372752, -0.282255], [51.40733, -0.303965], [51.414481, -0.300968], [51.423228, -0.290288], [51.379024, -0.280727], [51.398836, -0.252238], [51.395087, -0.254106], [51.341259, -0.318179], [51.407206, -0.307852], [51.381863, -0.284213], [51.40706, -0.303975], [51.41545, -0.250742], [51.425692, -0.305155], [51.412925, -0.280606], [51.401534, -0.294979], [51.394357, -0.253415], [51.363331, -0.302287], [51.356184, -0.311744], [51.378552, -0.291522], [51.424495, -0.290816], [51.410954, -0.305844], [51.383851, -0.291037], [51.381027, -0.246019], [51.410593, -0.293347], [51.416146, -0.261214], [51.419614, -0.289128], [51.368994, -0.2959], [51.386694, -0.300992], [51.368365, -0.302101], [51.342061, -0.317719], [51.378979, -0.302283], [51.412557, -0.286228], [51.394943, -0.280849], [51.391735, -0.307561], [51.418448, -0.301684], [51.399298, -0.295781], [51.41689, -0.25083], [51.393081, -0.295005], [51.406072, -0.304012], [51.380693, -0.290292], [51.403203, -0.267743], [51.394081, -0.314374], [51.405747, -0.281738], [51.379996, -0.279541], [51.381859, -0.290105], [51.407856, -0.284534], [51.351345, -0.312927], [51.411084, -0.308572], [51.39902, -0.258557], [51.395029, -0.299102], [51.410881, -0.300814], [51.390306, -0.253138], [51.406378, -0.281858], [51.411807, -0.296466], [51.386544, -0.254144], [51.396899, -0.267119], [51.401031, -0.266819], [51.404702, -0.277895], [51.402316, -0.256419], [51.419134, -0.293173], [51.408697, -0.305209], [51.408164, -0.293294], [51.430412, -0.308146], [51.406562, -0.282138], [51.398823, -0.251376], [51.404702, -0.277895], [51.41016, -0.300697], [51.404959, -0.307935], [51.407821, -0.30064], [51.381027, -0.246019], [51.384342, -0.25121], [51.409531, -0.30072], [51.392084, -0.306829], [51.412514, -0.289393], [51.382808, -0.287339], [51.417084, -0.282175], [51.388172, -0.297488], [51.417361, -0.288781], [51.378389, -0.28032], [51.343042, -0.317109], [51.407773, -0.303518], [51.403301, -0.274353], [51.3913, -0.308583], [51.425066, -0.27454], [51.435859, -0.256436], [51.407681, -0.303377], [51.410451, -0.302124], [51.381311, -0.283372], [51.373689, -0.297163], [51.374454, -0.300295], [51.391963, -0.298497], [51.367608, -0.305721], [51.385176, -0.295587], [51.375032, -0.303004], [51.411088, -0.308859], [51.407824, -0.294601], [51.383243, -0.249814], [51.408772, -0.3042], [51.412925, -0.280606], [51.417355, -0.288349], [51.389327, -0.284221], [51.390533, -0.305305], [51.412171, -0.29674], [51.363861, -0.314047], [51.379771, -0.294925], [51.407027, -0.307859], [51.384469, -0.277936], [51.383188, -0.288762], [51.392147, -0.26198], [51.376813, -0.283252], [51.407856, -0.284534], [51.389618, -0.298009], [51.429831, -0.30529], [51.408975, -0.287225], [51.387525, -0.253532], [51.394903, -0.253826], [51.384702, -0.29388], [51.414278, -0.250499], [51.391963, -0.298497], [51.41869, -0.250906], [51.368931, -0.291593], [51.420609, -0.289522], [51.379484, -0.281428], [51.38385, -0.242318], [51.375314, -0.303856], [51.409636, -0.289357], [51.341169, -0.318182], [51.352689, -0.31259], [51.341169, -0.318182], [51.426487, -0.273336], [51.418782, -0.251046], [51.380263, -0.279387], [51.376483, -0.285276], [51.408509, -0.273869], [51.38499, -0.295162], [51.411941, -0.305664], [51.382189, -0.281902], [51.381027, -0.246019], [51.391512, -0.29837], [51.363276, -0.310908], [51.392434, -0.312422], [51.408022, -0.2713], [51.412228, -0.30062], [51.410407, -0.299106], [51.405544, -0.280164], [51.390575, -0.308178], [51.384706, -0.294167], [51.399308, -0.302681], [51.406098, -0.281149], [51.412566, -0.305353], [51.399308, -0.302681], [51.38324, -0.249671], [51.36207, -0.308367], [51.40715, -0.303972], [51.394004, -0.25386], [51.434376, -0.259514], [51.408043, -0.284959], [51.409377, -0.26564], [51.390304, -0.252995], [51.422326, -0.277808], [51.415853, -0.284091], [51.409475, -0.303023], [51.406818, -0.256823], [51.399123, -0.259415], [51.412298, -0.305507], [51.419616, -0.289272], [51.375448, -0.306868], [51.406294, -0.257849], [51.37576, -0.303552], [51.382808, -0.287339], [51.415746, -0.252456], [51.393244, -0.293849], [51.418598, -0.250765], [51.341257, -0.318036], [51.435409, -0.256454], [51.393446, -0.258625], [51.401712, -0.294828], [51.392669, -0.26081], [51.382904, -0.287767], [51.412205, -0.299039], [51.41621, -0.259485], [51.39113, -0.309308], [51.379818, -0.279691], [51.409998, -0.259002], [51.341169, -0.318182], [51.404276, -0.304222], [51.417781, -0.29912], [51.383099, -0.258299], [51.410823, -0.29679], [51.362146, -0.288829], [51.410733, -0.296793], [51.412328, -0.301336], [51.366875, -0.298565], [51.431615, -0.310547], [51.37441, -0.29728], [51.398799, -0.280129], [51.419892, -0.302062], [51.429948, -0.307156], [51.373967, -0.297727], [51.395119, -0.299098], [51.375225, -0.303859], [51.385744, -0.309937], [51.385538, -0.295717], [51.382338, -0.28592], [51.398346, -0.255563], [51.356184, -0.311744], [51.415682, -0.284673], [51.377653, -0.279198], [51.425066, -0.27454], [51.390268, -0.262626], [51.429948, -0.307156], [51.390857, -0.290489], [51.343577, -0.316802], [51.410714, -0.301683], [51.412426, -0.28954], [51.379202, -0.280577], [51.397289, -0.29988], [51.422333, -0.302978], [51.403112, -0.273785], [51.38195, -0.277887], [51.405997, -0.274252], [51.378483, -0.280603], [51.401979, -0.27009], [51.374775, -0.303876], [51.399041, -0.247917], [51.435769, -0.25644], [51.403397, -0.274781], [51.412167, -0.296452], [51.391128, -0.309164], [51.406022, -0.257715], [51.381313, -0.283515], [51.408229, -0.285383], [51.414391, -0.300972], [51.3903, -0.252707], [51.423642, -0.275601], [51.392463, -0.253056], [51.404845, -0.257185], [51.349466, -0.31357], [51.404329, -0.277046], [51.398445, -0.256135], [51.341169, -0.318182], [51.393356, -0.258628], [51.398436, -0.25556], [51.398436, -0.25556], [51.363601, -0.296101], [51.390304, -0.252995], [51.395119, -0.299098], [51.398894, -0.25008], [51.356184, -0.311744], [51.373173, -0.274193], [51.417096, -0.301447], [51.421511, -0.253099], [51.408944, -0.303618], [51.399488, -0.302674], [51.415739, -0.252025], [51.366636, -0.306906], [51.398284, -0.300275], [51.396644, -0.311261], [51.405353, -0.304038], [51.36771, -0.306579], [51.41556, -0.252032], [51.380657, -0.245314], [51.430038, -0.307153], [51.404546, -0.304212], [51.410969, -0.30685], [51.374508, -0.304029], [51.419998, -0.27847], [51.403325, -0.269895], [51.404937, -0.257325], [51.356094, -0.311747], [51.410681, -0.299384], [51.416266, -0.257182], [51.375133, -0.285183], [51.413116, -0.275278], [51.341169, -0.318182], [51.399803, -0.26284], [51.382823, -0.300704], [51.38508, -0.295159], [51.380792, -0.278649], [51.382213, -0.277446], [51.404982, -0.278603], [51.399978, -0.268584], [51.400761, -0.303633], [51.429768, -0.307162], [51.375472, -0.277699], [51.378021, -0.279759], [51.409636, -0.289357], [51.415682, -0.284673], [51.407654, -0.307692], [51.385582, -0.274157], [51.395119, -0.299098], [51.373977, -0.298445], [51.41498, -0.28585], [51.392343, -0.306101], [51.414299, -0.300831], [51.403039, -0.256679], [51.405393, -0.294404], [51.396388, -0.29977], [51.412311, -0.287819], [51.375225, -0.303859], [51.390484, -0.252988], [51.369025, -0.291876], [51.408973, -0.287081], [51.407727, -0.300356], [51.389526, -0.297868], [51.411077, -0.308141], [51.391222, -0.309448], [51.41503, -0.301667], [51.399412, -0.260698], [51.384512, -0.293168], [51.415746, -0.252456], [51.383849, -0.290893], [51.401624, -0.294975], [51.362959, -0.307616], [51.395619, -0.30253], [51.383096, -0.288622], [51.402949, -0.256682], [51.399608, -0.261841], [51.427542, -0.302498], [51.413743, -0.287334], [51.415112, -0.301089], [51.395402, -0.312457], [51.376627, -0.282828], [51.377996, -0.302751], [51.390111, -0.307189], [51.411084, -0.308572], [51.41752, -0.287337], [51.42333, -0.303517], [51.369556, -0.285104], [51.373967, -0.297727], [51.412171, -0.29674], [51.387168, -0.271942], [51.363484, -0.300414], [51.381587, -0.283792], [51.407732, -0.300643], [51.404546, -0.304212], [51.416691, -0.261624], [51.376117, -0.303395], [51.428626, -0.259877], [51.363319, -0.295249], [51.340366, -0.318643], [51.390111, -0.307189], [51.373967, -0.297727], [51.400311, -0.254626], [51.412898, -0.303472], [51.393397, -0.304337], [51.414816, -0.280822], [51.379491, -0.300396], [51.383, -0.300554], [51.395301, -0.25036], [51.419752, -0.286246], [51.375582, -0.303702], [51.410714, -0.301683], [51.399801, -0.262696], [51.374779, -0.304163], [51.374949, -0.303438], [51.411718, -0.296469], [51.427107, -0.272737], [51.402249, -0.294664], [51.415594, -0.28482], [51.382427, -0.285917], [51.375644, -0.277118], [51.419134, -0.293173], [51.375225, -0.303859], [51.3931, -0.296298], [51.341169, -0.318182], [51.38319, -0.288906], [51.423328, -0.303373], [51.39931, -0.302824], [51.395119, -0.299098], [51.410095, -0.302425], [51.402966, -0.294494], [51.413743, -0.287334], [51.391186, -0.263885], [51.392515, -0.30552], [51.405353, -0.304038], [51.373967, -0.297727], [51.406715, -0.280264], [51.411071, -0.307709], [51.391812, -0.281972], [51.385999, -0.253733], [51.41223, -0.300764], [51.404636, -0.304209], [51.412175, -0.297027], [51.401314, -0.267671], [51.403773, -0.275917], [51.35224, -0.312607], [51.356184, -0.311744], [51.412925, -0.280606], [51.39666, -0.299904], [51.369002, -0.290297], [51.384693, -0.280946], [51.377459, -0.302914], [51.418017, -0.290626], [51.41197, -0.301493], [51.374863, -0.303729], [51.376029, -0.303542], [51.401534, -0.294979], [51.402263, -0.271085], [51.38554, -0.295861], [51.411042, -0.305697], [51.375128, -0.284896], [51.400761, -0.303633], [51.39504, -0.29982], [51.398333, -0.309905], [51.383849, -0.290893], [51.373887, -0.304627], [51.384326, -0.292744], [51.395617, -0.271623], [51.415594, -0.28482], [51.412328, -0.301336], [51.383661, -0.290326], [51.380617, -0.278943], [51.391181, -0.263598], [51.385053, -0.26268], [51.411987, -0.296459], [51.418057, -0.250642], [51.398258, -0.25571], [51.404143, -0.276622], [51.409636, -0.289357], [51.392147, -0.26198], [51.356721, -0.31158], [51.401314, -0.267671], [51.413682, -0.270942], [51.3989, -0.250511], [51.397807, -0.255584], [51.416374, -0.30133], [51.409297, -0.303174], [51.408196, -0.264822], [51.397327, -0.296285], [51.396091, -0.255074], [51.378021, -0.279759], [51.383608, -0.250232], [51.382001, -0.269119], [51.376029, -0.303542], [51.397731, -0.280888], [51.392594, -0.298617], [51.374865, -0.303872], [51.363829, -0.299396], [51.341169, -0.318182], [51.407152, -0.304116], [51.419954, -0.281636], [51.41435, -0.249345], [51.382808, -0.287339], [51.391383, -0.252953], [51.412927, -0.280749], [51.422064, -0.302988], [51.393579, -0.304474], [51.413408, -0.301439], [51.419069, -0.294901], [51.394758, -0.298968], [51.428858, -0.269506], [51.374175, -0.287374], [51.393876, -0.257315], [51.39253, -0.257509], [51.401684, -0.256299], [51.381027, -0.246019], [51.409003, -0.258609], [51.412219, -0.300046], [51.392954, -0.304785], [51.396994, -0.255327], [51.405568, -0.257445], [51.358335, -0.311234], [51.379476, -0.280854], [51.407913, -0.294597], [51.380119, -0.281835], [51.414932, -0.301095], [51.374673, -0.303017], [51.369021, -0.291589], [51.409475, -0.303023], [51.395775, -0.307124], [51.409631, -0.289069], [51.411897, -0.296462], [51.429927, -0.305718], [51.349376, -0.313574], [51.408858, -0.303909], [51.410434, -0.294791], [51.407148, -0.303828], [51.419324, -0.251169], [51.402334, -0.269789], [51.351345, -0.312927], [51.399318, -0.260414], [51.419614, -0.289128], [51.374771, -0.303588], [51.414389, -0.300828], [51.411983, -0.289988], [51.402261, -0.270942], [51.410006, -0.302428], [51.392084, -0.306829], [51.416026, -0.265245], [51.410415, -0.299681], [51.435499, -0.25645], [51.410153, -0.281716], [51.40065, -0.265396], [51.388395, -0.26974], [51.414712, -0.249475], [51.372539, -0.304677], [51.407152, -0.304116], [51.416176, -0.257186], [51.409128, -0.291533], [51.387843, -0.281115], [51.381027, -0.246019], [51.410792, -0.300817], [51.415833, -0.252309], [51.389676, -0.28349], [51.378405, -0.281469], [51.385711, -0.295279], [51.390471, -0.3135], [51.378335, -0.295122], [51.375734, -0.277114], [51.415835, -0.301349], [51.417998, -0.301701], [51.41007, -0.3007], [51.409834, -0.290644], [51.391558, -0.264733], [51.36347, -0.299409], [51.385611, -0.263952], [51.389786, -0.266525], [51.40132, -0.268102], [51.410153, -0.281716], [51.37894, -0.281161], [51.412985, -0.27859], [51.398823, -0.251376], [51.398611, -0.255266], [51.417086, -0.282319], [51.43218, -0.257008], [51.391922, -0.252933], [51.409562, -0.302876], [51.379246, -0.30213], [51.431823, -0.257166], [51.384158, -0.250929], [51.375554, -0.277121], [51.385176, -0.295587], [51.395177, -0.254103], [51.434695, -0.256769], [51.394096, -0.254], [51.412225, -0.300477], [51.409834, -0.290644], [51.34661, -0.315111], [51.362693, -0.307913], [51.409475, -0.303023], [51.390394, -0.252991], [51.407685, -0.303665], [51.404702, -0.277895], [51.395087, -0.254106], [51.389007, -0.26253], [51.399799, -0.262552], [51.42877, -0.269653], [51.400763, -0.303777], [51.40647, -0.281998], [51.393818, -0.253436], [51.382191, -0.282045], [51.419998, -0.27847], [51.381582, -0.247004], [51.39719, -0.286946], [51.379195, -0.280146], [51.408877, -0.305202], [51.378932, -0.280587], [51.39816, -0.304161], [51.405143, -0.308216], [51.399991, -0.263408], [51.40607, -0.303868], [51.409088, -0.301168], [51.414855, -0.289593], [51.368247, -0.306416], [51.402859, -0.256686], [51.408877, -0.305202], [51.404546, -0.304212], [51.401456, -0.308208], [51.351345, -0.312927], [51.366098, -0.307069], [51.326727, -0.327036], [51.399968, -0.255789], [51.412296, -0.305363], [51.394081, -0.314374], [51.362725, -0.291536], [51.412863, -0.288661], [51.35735, -0.311557], [51.395657, -0.292753], [51.41056, -0.297231], [51.399308, -0.302681], [51.406879, -0.303838], [51.368887, -0.300933], [51.413218, -0.300727], [51.359493, -0.310473], [51.379604, -0.301973], [51.375047, -0.304009], [51.412526, -0.302623], [51.432632, -0.257135], [51.412298, -0.305507], [51.407681, -0.303377], [51.376207, -0.303392], [51.373375, -0.294157], [51.398526, -0.255556], [51.379783, -0.301966], [51.413114, -0.275134], [51.38889, -0.309822], [51.377651, -0.279054], [51.406838, -0.282559], [51.364136, -0.308147], [51.375438, -0.30615], [51.399891, -0.262693], [51.367582, -0.310175], [51.41331, -0.300868], [51.407819, -0.300496], [51.418356, -0.301544], [51.382274, -0.281611], [51.384736, -0.253494], [51.378311, -0.281185], [51.363392, -0.300274], [51.382383, -0.307618], [51.391541, -0.263584], [51.396181, -0.255071], [51.376025, -0.303255], [51.41145, -0.290439], [51.415746, -0.252456], [51.398524, -0.255413], [51.416264, -0.250998], [51.419105, -0.278935], [51.363967, -0.315193], [51.411084, -0.308572], [51.405454, -0.280167], [51.358693, -0.298724], [51.43612, -0.255851], [51.376205, -0.303248], [51.390127, -0.253145], [51.410881, -0.300814], [51.361214, -0.292742], [51.37921, -0.281151], [51.428858, -0.269506], [51.420116, -0.28652], [51.436295, -0.255557], [51.340813, -0.318483], [51.398609, -0.255122], [51.362151, -0.289116], [51.401854, -0.304599], [51.408245, -0.286533], [51.398382, -0.300846], [51.413406, -0.301296], [51.400636, -0.258351], [51.412474, -0.305213], [51.373967, -0.297727], [51.3634, -0.300848], [51.410342, -0.300834], [51.385265, -0.252755], [51.417271, -0.288784], [51.415653, -0.301212], [51.374083, -0.287234], [51.391938, -0.284411], [51.411983, -0.289988], [51.391214, -0.308873], [51.391697, -0.311156], [51.403206, -0.274069], [51.385808, -0.277311], [51.413747, -0.287621], [51.409998, -0.259002], [51.402637, -0.253819], [51.382335, -0.285776], [51.433353, -0.257251], [51.389091, -0.305071], [51.408641, -0.258479], [51.393289, -0.315553], [51.382427, -0.285917], [51.426664, -0.273185], [51.39128, -0.264169], [51.412925, -0.280606], [51.399318, -0.260414], [51.415917, -0.288403], [51.388172, -0.297488], [51.417727, -0.301567], [51.367488, -0.309891], [51.403022, -0.304556], [51.41692, -0.295557], [51.381664, -0.282927], [51.390304, -0.252995], [51.39092, -0.264182], [51.39418, -0.253566], [51.373967, -0.297727], [51.392084, -0.306829], [51.388172, -0.297488], [51.407555, -0.30712], [51.415022, -0.301092], [51.356004, -0.31175], [51.341169, -0.318182], [51.386589, -0.25716], [51.357746, -0.301632], [51.425594, -0.255533], [51.412225, -0.300477], [51.393644, -0.265948], [51.374357, -0.299868], [51.382943, -0.259886], [51.379478, -0.280997], [51.349823, -0.313414], [51.391275, -0.263882], [51.394723, -0.253832], [51.381677, -0.289968], [51.410954, -0.305844], [51.329397, -0.325073], [51.398442, -0.255991], [51.386878, -0.301272], [51.393726, -0.253295], [51.412566, -0.305353], [51.401974, -0.269802], [51.397086, -0.255467], [51.376711, -0.294752], [51.373873, -0.297443], [51.354393, -0.312241], [51.378481, -0.28046], [51.385268, -0.295727], [51.386694, -0.300992], [51.390512, -0.303869], [51.392084, -0.306829], [51.405053, -0.308219], [51.374171, -0.299444], [51.410434, -0.294791], [51.40065, -0.265396], [51.360649, -0.309569], [51.391473, -0.308145], [51.399217, -0.259699], [51.397905, -0.28045], [51.382523, -0.280165], [51.411718, -0.296469], [51.379574, -0.281425], [51.411003, -0.296783], [51.399308, -0.302681], [51.338493, -0.319716], [51.399803, -0.26284], [51.401408, -0.267955], [51.410574, -0.292054], [51.435499, -0.25645], [51.417607, -0.250659], [51.383321, -0.243057], [51.381465, -0.275462], [51.379783, -0.301966], [51.413922, -0.287327], [51.417084, -0.282175], [51.406973, -0.304122], [51.374512, -0.304316], [51.402353, -0.271082], [51.393309, -0.304484], [51.411542, -0.29058], [51.421087, -0.279149], [51.380904, -0.286261], [51.414979, -0.267442], [51.39088, -0.298249], [51.409629, -0.288926], [51.408488, -0.284655], [51.412831, -0.305056], [51.393081, -0.295005], [51.375672, -0.303699], [51.375644, -0.277118], [51.369288, -0.285258], [51.399028, -0.295791], [51.395034, -0.299389], [51.398609, -0.255122], [51.375554, -0.277121], [51.416077, -0.250574], [51.416259, -0.256751], [51.37522, -0.285036], [51.412234, -0.301052], [51.383452, -0.276106], [51.393555, -0.309075], [51.382338, -0.28592], [51.382519, -0.286057], [51.354211, -0.312104], [51.363231, -0.30775], [51.419712, -0.302069], [51.381769, -0.283929], [51.357813, -0.30005], [51.412951, -0.288514], [51.400937, -0.266535], [51.409275, -0.258742], [51.39905, -0.248492], [51.383849, -0.290893], [51.430038, -0.307153], [51.380794, -0.278792], [51.394006, -0.254003], [51.379961, -0.301816], [51.419995, -0.278327], [51.378239, -0.294695], [51.403112, -0.273785], [51.419995, -0.278327], [51.429948, -0.307156], [51.418103, -0.271926], [51.407552, -0.294467], [51.389527, -0.267254], [51.407249, -0.273773], [51.408858, -0.303909], [51.410754, -0.292047], [51.412612, -0.296148], [51.408889, -0.306065], [51.394096, -0.254], [51.362636, -0.29154], [51.411159, -0.307562], [51.384702, -0.29388], [51.349466, -0.31357], [51.420074, -0.302199], [51.413745, -0.287478], [51.407652, -0.307548], [51.416691, -0.261624], [51.412917, -0.249688], [51.360715, -0.314163], [51.417008, -0.301594], [51.411943, -0.305808], [51.400236, -0.304659], [51.39088, -0.298249], [51.379005, -0.279434], [51.401447, -0.246388], [51.406072, -0.304012], [51.363284, -0.311483], [51.398104, -0.263479], [51.405544, -0.280164], [51.406072, -0.304012], [51.43576, -0.255865], [51.408877, -0.305202], [51.370668, -0.305895], [51.382427, -0.285917], [51.407555, -0.30712], [51.43429, -0.259805], [51.430607, -0.266131], [51.407029, -0.308002], [51.382427, -0.285917], [51.397439, -0.310225], [51.405049, -0.307932], [51.369021, -0.291589], [51.392774, -0.29861], [51.382577, -0.259468], [51.341169, -0.318182], [51.366548, -0.307053], [51.386694, -0.300992], [51.402703, -0.258273], [51.416084, -0.251005], [51.393317, -0.305059], [51.398172, -0.280296], [51.394626, -0.296098], [51.387935, -0.263002], [51.403016, -0.273357], [51.412927, -0.280749], [51.401323, -0.256169], [51.368847, -0.285849], [51.38779, -0.253234], [51.38508, -0.295159], [51.398611, -0.255266], [51.396254, -0.290575], [51.400997, -0.295142], [51.409535, -0.264196], [51.397527, -0.303897], [51.404699, -0.26553], [51.410714, -0.301683], [51.400853, -0.303774], [51.375235, -0.304577], [51.38319, -0.288906], [51.417084, -0.282175], [51.367622, -0.306726], [51.349823, -0.313414], [51.415928, -0.252593], [51.397715, -0.255444], [51.409028, -0.297], [51.376976, -0.300633], [51.391445, -0.263156], [51.406072, -0.304012], [51.410532, -0.295363], [51.407773, -0.303518], [51.375644, -0.277118], [51.412745, -0.268389], [51.412119, -0.305514], [51.400689, -0.255905], [51.373967, -0.297727], [51.419998, -0.27847], [51.409832, -0.302866], [51.353763, -0.312264], [51.357798, -0.311397], [51.416146, -0.261214], [51.397897, -0.25558], [51.398258, -0.25571], [51.386506, -0.275847], [51.407287, -0.258099], [51.394443, -0.253124], [51.384892, -0.294591], [51.371958, -0.295647], [51.395891, -0.265863], [51.407727, -0.300356], [51.435687, -0.257018], [51.395119, -0.299098], [51.395119, -0.299098], [51.39042, -0.260752], [51.433798, -0.256947], [51.416234, -0.255026], [51.412119, -0.305514], [51.41034, -0.30069], [51.342311, -0.322592], [51.390207, -0.301436], [51.401502, -0.256162], [51.415856, -0.284235], [51.409629, -0.288926], [51.429556, -0.268041], [51.426601, -0.305841], [51.412739, -0.304916], [51.400765, -0.303921], [51.341259, -0.318179], [51.435247, -0.257611], [51.398047, -0.253562], [51.397535, -0.25545], [51.429939, -0.306581], [51.411807, -0.296466], [51.413466, -0.280729], [51.38541, -0.280775], [51.412031, -0.305661], [51.380527, -0.278946], [51.361362, -0.309112], [51.338493, -0.319716], [51.418268, -0.301691], [51.406292, -0.257705], [51.423849, -0.295874], [51.390484, -0.252988], [51.399221, -0.259987], [51.393191, -0.25964], [51.394624, -0.295954], [51.413655, -0.287481], [51.392952, -0.304641], [51.363231, -0.30775], [51.411983, -0.289988], [51.341169, -0.318182], [51.366995, -0.306893], [51.429227, -0.307039], [51.398894, -0.25008], [51.41584, -0.25274], [51.399308, -0.302681], [51.382519, -0.286057], [51.375225, -0.303859], [51.383977, -0.250792], [51.425066, -0.27454], [51.411237, -0.300513], [51.399315, -0.260271], [51.365733, -0.28812], [51.394526, -0.25269], [51.391963, -0.298497], [51.413835, -0.287474], [51.414457, -0.280836], [51.405395, -0.294547], [51.410823, -0.29679], [51.406565, -0.282282], [51.399318, -0.260414], [51.435859, -0.256436], [51.381953, -0.28421], [51.37873, -0.291372], [51.393127, -0.304347], [51.417084, -0.282175], [51.375546, -0.307439], [51.412336, -0.289544], [51.385307, -0.261664], [51.341259, -0.318179], [51.379666, -0.281565], [51.395681, -0.30684], [51.3848, -0.294451], [51.411807, -0.296466], [51.404546, -0.304212], [51.341169, -0.318182], [51.379908, -0.279688], [51.4122, -0.298752], [51.409685, -0.262178], [51.373684, -0.296876], [51.410858, -0.280683], [51.389091, -0.305071], [51.411082, -0.308428], [51.405982, -0.304015], [51.418603, -0.293768], [51.392196, -0.265284], [51.401408, -0.267955], [51.409571, -0.297268], [51.403041, -0.256822], [51.408471, -0.302054], [51.341167, -0.318039], [51.363331, -0.302287], [51.412966, -0.277297], [51.397533, -0.310509], [51.379478, -0.280997], [51.377173, -0.295597], [51.384328, -0.292888], [51.407394, -0.283689], [51.408766, -0.303768], [51.398346, -0.255563], [51.412311, -0.287819], [51.381401, -0.283368], [51.410733, -0.296793], [51.361981, -0.308371], [51.390661, -0.264911], [51.402537, -0.30213], [51.366815, -0.306899], [51.408889, -0.306065], [51.38281, -0.287483], [51.408887, -0.305921], [51.403863, -0.275913], [51.407088, -0.287295], [51.388746, -0.29991], [51.395175, -0.253959], [51.39345, -0.258912], [51.413306, -0.30058], [51.426601, -0.305841], [51.404607, -0.277611], [51.409728, -0.289497], [51.388895, -0.297748], [51.384897, -0.252194], [51.398423, -0.309901], [51.39506, -0.307438], [51.399398, -0.302677], [51.408379, -0.301913], [51.377679, -0.299458], [51.407392, -0.283545], [51.399703, -0.262125], [51.409088, -0.301168], [51.422154, -0.302985], [51.392415, -0.298624], [51.404636, -0.304209], [51.373582, -0.296017], [51.386917, -0.291641], [51.383427, -0.250095], [51.401219, -0.267387], [51.369776, -0.300181], [51.397071, -0.2605], [51.382241, -0.285492], [51.378979, -0.302283], [51.386295, -0.273699], [51.417084, -0.282175], [51.413833, -0.287331], [51.435409, -0.256454], [51.425726, -0.295085], [51.407909, -0.29431], [51.396632, -0.261235], [51.400739, -0.308378], [51.383097, -0.276407], [51.408618, -0.275159], [51.398611, -0.255266], [51.374176, -0.299731], [51.430934, -0.306976], [51.412835, -0.280609], [51.39816, -0.304161], [51.407516, -0.298207], [51.391181, -0.263598], [51.420254, -0.302192], [51.378481, -0.28046], [51.375464, -0.277124], [51.412228, -0.30062], [51.40989, -0.282157], [51.36663, -0.294121], [51.385266, -0.271008], [51.389439, -0.267401], [51.393825, -0.302884], [51.383851, -0.291037], [51.411001, -0.29664], [51.413999, -0.249934], [51.383849, -0.290893], [51.375314, -0.303856], [51.362636, -0.29154], [51.406838, -0.282559], [51.341169, -0.318182], [51.394935, -0.255981], [51.389346, -0.297875], [51.362875, -0.30805], [51.392082, -0.306685], [51.379572, -0.281281], [51.412219, -0.300046], [51.36839, -0.297647], [51.425066, -0.27454], [51.413747, -0.287621], [51.4089, -0.294417], [51.378485, -0.280747], [51.410549, -0.296513], [51.36445, -0.298798], [51.384666, -0.273042], [51.419784, -0.251871], [51.416691, -0.261624], [51.433853, -0.260685], [51.381027, -0.246019], [51.405544, -0.280164], [51.375644, -0.277118], [51.425759, -0.297385], [51.401626, -0.295119], [51.414457, -0.250492], [51.412079, -0.296599], [51.379352, -0.260309], [51.423109, -0.276052], [51.41155, -0.303522], [51.40886, -0.304052], [51.392954, -0.304785], [51.419802, -0.302065], [51.401764, -0.304603], [51.412951, -0.288514], [51.407948, -0.284675], [51.375646, -0.277261], [51.407027, -0.307859], [51.36304, -0.307039], [51.414654, -0.288163], [51.389099, -0.268707], [51.379824, -0.280122], [51.383663, -0.290469], [51.363702, -0.296815], [51.411042, -0.305697], [51.392749, -0.296886], [51.393272, -0.259062], [51.389091, -0.305071], [51.41584, -0.25274], [51.408858, -0.303909], [51.409539, -0.288929], [51.379476, -0.280854], [51.401854, -0.304599], [51.393131, -0.304634], [51.397533, -0.310509], [51.392799, -0.281792], [51.415104, -0.300514], [51.416992, -0.282035], [51.395119, -0.299098], [51.406008, -0.281153], [51.388654, -0.293589], [51.393081, -0.295005], [51.395119, -0.299098], [51.404665, -0.257192], [51.393101, -0.265681], [51.38168, -0.277897], [51.383056, -0.24939], [51.400763, -0.303777], [51.421703, -0.278263], [51.391604, -0.29851], [51.382427, -0.285917], [51.40432, -0.301057], [51.341169, -0.318182], [51.401885, -0.269806], [51.403397, -0.274781], [51.410514, -0.294069], [51.398436, -0.25556], [51.401892, -0.294821], [51.416541, -0.263643], [51.375548, -0.307583], [51.363045, -0.307326], [51.382427, -0.285917], [51.362937, -0.293683], [51.374274, -0.300302], [51.374779, -0.304163], [51.390918, -0.264039], [51.383987, -0.300373], [51.390019, -0.307049], [51.410363, -0.302271], [51.378019, -0.279615], [51.363045, -0.307326], [51.37982, -0.279835], [51.385263, -0.252612], [51.417084, -0.282175], [51.341169, -0.318182], [51.379783, -0.301966], [51.413594, -0.271089], [51.41154, -0.290436], [51.412142, -0.288544], [51.34313, -0.316962], [51.375657, -0.284158], [51.390484, -0.265061], [51.378481, -0.28046], [51.374464, -0.301014], [51.405544, -0.280164], [51.380882, -0.278645], [51.357726, -0.300197], [51.401123, -0.266959], [51.400056, -0.255642], [51.375225, -0.303859], [51.410956, -0.305988], [51.391036, -0.309024], [51.383188, -0.288762], [51.433079, -0.256974], [51.405982, -0.304015], [51.404304, -0.257062], [51.374065, -0.298298], [51.412225, -0.300477], [51.373173, -0.274193], [51.400853, -0.303774], [51.381027, -0.246019], [51.366458, -0.307056], [51.381403, -0.283512], [51.32664, -0.327183], [51.409075, -0.269534], [51.411632, -0.290576], [51.387538, -0.297224], [51.415022, -0.301092], [51.401316, -0.267814], [51.364048, -0.308294], [51.399651, -0.264715], [51.375314, -0.303856], [51.358692, -0.311077], [51.384599, -0.26241], [51.397627, -0.255591], [51.412679, -0.300747], [51.36503, -0.307827], [51.393277, -0.25935], [51.365555, -0.306802], [51.374719, -0.299998], [51.415474, -0.301219], [51.393668, -0.304471], [51.363149, -0.308327], [51.419934, -0.286383], [51.403298, -0.274209], [51.393816, -0.253292], [51.399157, -0.255676], [51.413427, -0.302733], [51.378483, -0.280603], [51.381037, -0.283094], [51.396091, -0.255074], [51.36753, -0.306586], [51.338225, -0.319869], [51.429556, -0.268041], [51.414104, -0.269057], [51.399131, -0.247914], [51.396091, -0.255074], [51.412541, -0.303629], [51.375404, -0.303852], [51.378442, -0.302447], [51.380854, -0.301352], [51.375826, -0.277254], [51.374366, -0.300442], [51.410434, -0.294791], [51.363305, -0.312918], [51.383148, -0.249531], [51.4082, -0.30192], [51.391012, -0.264323], [51.390429, -0.298122], [51.383, -0.300554], [51.410363, -0.302271], [51.387435, -0.253535], [51.403016, -0.273357], [51.384895, -0.252051], [51.409998, -0.259002], [51.41785, -0.285311], [51.353746, -0.304796], [51.39482, -0.25426], [51.385268, -0.295727], [51.411224, -0.305834], [51.400739, -0.308378], [51.398526, -0.255556], [51.386545, -0.254144], [51.374777, -0.304019], [51.408377, -0.30177], [51.411983, -0.289988], [51.407934, -0.302217], [51.403298, -0.274209], [51.361274, -0.309258], [51.360987, -0.314296], [51.401974, -0.269802], [51.405428, -0.303029], [51.417578, -0.285177], [51.40607, -0.303868], [51.414547, -0.280832], [51.406469, -0.29422], [51.40188, -0.269518], [51.400558, -0.265255], [51.382748, -0.277138], [51.391222, -0.309448], [51.399308, -0.302681], [51.409475, -0.303023], [51.386694, -0.300992], [51.362146, -0.288829], [51.389876, -0.266522], [51.410153, -0.281716], [51.340813, -0.318483], [51.390295, -0.30747], [51.379904, -0.279401], [51.427603, -0.306667], [51.403415, -0.294477], [51.372545, -0.305108], [51.430414, -0.308289], [51.4338, -0.25709], [51.422042, -0.276812], [51.422605, -0.303112], [51.407729, -0.3005], [51.397665, -0.270252], [51.349466, -0.31357], [51.397355, -0.31066], [51.39504, -0.29982], [51.395119, -0.299098], [51.384289, -0.253655], [51.374355, -0.299724], [51.384342, -0.25121], [51.412925, -0.280606], [51.396912, -0.311107], [51.395049, -0.312901], [51.397248, -0.278606], [51.413914, -0.250225], [51.396136, -0.258091], [51.374752, -0.302296], [51.389432, -0.273006], [51.413218, -0.300727], [51.417806, -0.270067], [51.382338, -0.28592], [51.370327, -0.301023], [51.375039, -0.303435], [51.37921, -0.281151], [51.40841, -0.28552], [51.405445, -0.304179], [51.39835, -0.255851], [51.399022, -0.2587], [51.419105, -0.278935], [51.397895, -0.255437], [51.410967, -0.306707], [51.434202, -0.259952], [51.341169, -0.318182], [51.391128, -0.309164], [51.415022, -0.301092], [51.407769, -0.284681], [51.368877, -0.287859], [51.388082, -0.297491], [51.380613, -0.291014], [51.378485, -0.280747], [51.411972, -0.301636], [51.398684, -0.254113], [51.403865, -0.276057], [51.382427, -0.285917], [51.41034, -0.30069], [51.40767, -0.28411], [51.407997, -0.294163], [51.411943, -0.305808], [51.417084, -0.282175], [51.41145, -0.290439], [51.341169, -0.318182], [51.394728, -0.25412], [51.399116, -0.246908], [51.395481, -0.299229], [51.410756, -0.292191], [51.394723, -0.253832], [51.424762, -0.290662], [51.387607, -0.271207], [51.382752, -0.277426], [51.378174, -0.3026], [51.399512, -0.261413], [51.415178, -0.280953], [51.410539, -0.301977], [51.393816, -0.253292], [51.384692, -0.274766], [51.387697, -0.271203], [51.343577, -0.316802], [51.410965, -0.306563], [51.407416, -0.285126], [51.408413, -0.285664], [51.414712, -0.249475]],\n",
       "                {\n",
       "  &quot;minOpacity&quot;: 0.5,\n",
       "  &quot;maxZoom&quot;: 18,\n",
       "  &quot;radius&quot;: 25,\n",
       "  &quot;blur&quot;: 15,\n",
       "}\n",
       "            );\n",
       "        \n",
       "    \n",
       "            heat_map_5935383ac63b64950516604cbded8c97.addTo(map_9ca46a7aaff4d62a4cedabdddb6aadbb);\n",
       "        \n",
       "&lt;/script&gt;\n",
       "&lt;/html&gt;\" style=\"position:absolute;width:100%;height:100%;left:0;top:0;border:none !important;\" allowfullscreen webkitallowfullscreen mozallowfullscreen></iframe></div></div>"
      ],
      "text/plain": [
       "<folium.folium.Map at 0x2a28ba31590>"
      ]
     },
     "execution_count": 154,
     "metadata": {},
     "output_type": "execute_result"
    }
   ],
   "source": [
    "Kingston_Map"
   ]
  },
  {
   "cell_type": "markdown",
   "id": "90979e86-6ef7-41c8-a33d-18e67b606842",
   "metadata": {},
   "source": [
    "<h1>DATA VISUALIZATION USING SEABORN</h1>"
   ]
  },
  {
   "cell_type": "code",
   "execution_count": 151,
   "id": "619b0a66-de26-4455-93a8-e3196c6cd388",
   "metadata": {},
   "outputs": [],
   "source": [
    "import seaborn as sns"
   ]
  },
  {
   "cell_type": "code",
   "execution_count": 156,
   "id": "3f646781-bde4-41b7-9749-11d827fb8acd",
   "metadata": {},
   "outputs": [
    {
     "ename": "ValueError",
     "evalue": "Could not interpret value `Number_of_Casualities` for `y`. An entry with this name does not appear in `data`.",
     "output_type": "error",
     "traceback": [
      "\u001b[1;31m---------------------------------------------------------------------------\u001b[0m",
      "\u001b[1;31mValueError\u001b[0m                                Traceback (most recent call last)",
      "Cell \u001b[1;32mIn[156], line 1\u001b[0m\n\u001b[1;32m----> 1\u001b[0m \u001b[43msns\u001b[49m\u001b[38;5;241;43m.\u001b[39;49m\u001b[43mbarplot\u001b[49m\u001b[43m(\u001b[49m\u001b[43mdata\u001b[49m\u001b[38;5;241;43m=\u001b[39;49m\u001b[43maccident\u001b[49m\u001b[43m,\u001b[49m\u001b[43m \u001b[49m\u001b[43my\u001b[49m\u001b[38;5;241;43m=\u001b[39;49m\u001b[38;5;124;43m'\u001b[39;49m\u001b[38;5;124;43mNumber_of_Casualities\u001b[39;49m\u001b[38;5;124;43m'\u001b[39;49m\u001b[43m,\u001b[49m\u001b[43m \u001b[49m\u001b[43mx\u001b[49m\u001b[43m \u001b[49m\u001b[38;5;241;43m=\u001b[39;49m\u001b[43m \u001b[49m\u001b[38;5;124;43m'\u001b[39;49m\u001b[38;5;124;43mMonth\u001b[39;49m\u001b[38;5;124;43m'\u001b[39;49m\u001b[43m)\u001b[49m\n\u001b[0;32m      2\u001b[0m plt\u001b[38;5;241m.\u001b[39mgcf()\u001b[38;5;241m.\u001b[39mset_size_inches(\u001b[38;5;241m10\u001b[39m,\u001b[38;5;241m6\u001b[39m)\n\u001b[0;32m      3\u001b[0m plt\u001b[38;5;241m.\u001b[39mshow()\n",
      "File \u001b[1;32m~\\AppData\\Local\\Packages\\PythonSoftwareFoundation.Python.3.13_qbz5n2kfra8p0\\LocalCache\\local-packages\\Python313\\site-packages\\seaborn\\categorical.py:2341\u001b[0m, in \u001b[0;36mbarplot\u001b[1;34m(data, x, y, hue, order, hue_order, estimator, errorbar, n_boot, seed, units, weights, orient, color, palette, saturation, fill, hue_norm, width, dodge, gap, log_scale, native_scale, formatter, legend, capsize, err_kws, ci, errcolor, errwidth, ax, **kwargs)\u001b[0m\n\u001b[0;32m   2338\u001b[0m \u001b[38;5;28;01mif\u001b[39;00m estimator \u001b[38;5;129;01mis\u001b[39;00m \u001b[38;5;28mlen\u001b[39m:\n\u001b[0;32m   2339\u001b[0m     estimator \u001b[38;5;241m=\u001b[39m \u001b[38;5;124m\"\u001b[39m\u001b[38;5;124msize\u001b[39m\u001b[38;5;124m\"\u001b[39m\n\u001b[1;32m-> 2341\u001b[0m p \u001b[38;5;241m=\u001b[39m \u001b[43m_CategoricalAggPlotter\u001b[49m\u001b[43m(\u001b[49m\n\u001b[0;32m   2342\u001b[0m \u001b[43m    \u001b[49m\u001b[43mdata\u001b[49m\u001b[38;5;241;43m=\u001b[39;49m\u001b[43mdata\u001b[49m\u001b[43m,\u001b[49m\n\u001b[0;32m   2343\u001b[0m \u001b[43m    \u001b[49m\u001b[43mvariables\u001b[49m\u001b[38;5;241;43m=\u001b[39;49m\u001b[38;5;28;43mdict\u001b[39;49m\u001b[43m(\u001b[49m\u001b[43mx\u001b[49m\u001b[38;5;241;43m=\u001b[39;49m\u001b[43mx\u001b[49m\u001b[43m,\u001b[49m\u001b[43m \u001b[49m\u001b[43my\u001b[49m\u001b[38;5;241;43m=\u001b[39;49m\u001b[43my\u001b[49m\u001b[43m,\u001b[49m\u001b[43m \u001b[49m\u001b[43mhue\u001b[49m\u001b[38;5;241;43m=\u001b[39;49m\u001b[43mhue\u001b[49m\u001b[43m,\u001b[49m\u001b[43m \u001b[49m\u001b[43munits\u001b[49m\u001b[38;5;241;43m=\u001b[39;49m\u001b[43munits\u001b[49m\u001b[43m,\u001b[49m\u001b[43m \u001b[49m\u001b[43mweight\u001b[49m\u001b[38;5;241;43m=\u001b[39;49m\u001b[43mweights\u001b[49m\u001b[43m)\u001b[49m\u001b[43m,\u001b[49m\n\u001b[0;32m   2344\u001b[0m \u001b[43m    \u001b[49m\u001b[43morder\u001b[49m\u001b[38;5;241;43m=\u001b[39;49m\u001b[43morder\u001b[49m\u001b[43m,\u001b[49m\n\u001b[0;32m   2345\u001b[0m \u001b[43m    \u001b[49m\u001b[43morient\u001b[49m\u001b[38;5;241;43m=\u001b[39;49m\u001b[43morient\u001b[49m\u001b[43m,\u001b[49m\n\u001b[0;32m   2346\u001b[0m \u001b[43m    \u001b[49m\u001b[43mcolor\u001b[49m\u001b[38;5;241;43m=\u001b[39;49m\u001b[43mcolor\u001b[49m\u001b[43m,\u001b[49m\n\u001b[0;32m   2347\u001b[0m \u001b[43m    \u001b[49m\u001b[43mlegend\u001b[49m\u001b[38;5;241;43m=\u001b[39;49m\u001b[43mlegend\u001b[49m\u001b[43m,\u001b[49m\n\u001b[0;32m   2348\u001b[0m \u001b[43m\u001b[49m\u001b[43m)\u001b[49m\n\u001b[0;32m   2350\u001b[0m \u001b[38;5;28;01mif\u001b[39;00m ax \u001b[38;5;129;01mis\u001b[39;00m \u001b[38;5;28;01mNone\u001b[39;00m:\n\u001b[0;32m   2351\u001b[0m     ax \u001b[38;5;241m=\u001b[39m plt\u001b[38;5;241m.\u001b[39mgca()\n",
      "File \u001b[1;32m~\\AppData\\Local\\Packages\\PythonSoftwareFoundation.Python.3.13_qbz5n2kfra8p0\\LocalCache\\local-packages\\Python313\\site-packages\\seaborn\\categorical.py:67\u001b[0m, in \u001b[0;36m_CategoricalPlotter.__init__\u001b[1;34m(self, data, variables, order, orient, require_numeric, color, legend)\u001b[0m\n\u001b[0;32m     56\u001b[0m \u001b[38;5;28;01mdef\u001b[39;00m\u001b[38;5;250m \u001b[39m\u001b[38;5;21m__init__\u001b[39m(\n\u001b[0;32m     57\u001b[0m     \u001b[38;5;28mself\u001b[39m,\n\u001b[0;32m     58\u001b[0m     data\u001b[38;5;241m=\u001b[39m\u001b[38;5;28;01mNone\u001b[39;00m,\n\u001b[1;32m   (...)\u001b[0m\n\u001b[0;32m     64\u001b[0m     legend\u001b[38;5;241m=\u001b[39m\u001b[38;5;124m\"\u001b[39m\u001b[38;5;124mauto\u001b[39m\u001b[38;5;124m\"\u001b[39m,\n\u001b[0;32m     65\u001b[0m ):\n\u001b[1;32m---> 67\u001b[0m     \u001b[38;5;28;43msuper\u001b[39;49m\u001b[43m(\u001b[49m\u001b[43m)\u001b[49m\u001b[38;5;241;43m.\u001b[39;49m\u001b[38;5;21;43m__init__\u001b[39;49m\u001b[43m(\u001b[49m\u001b[43mdata\u001b[49m\u001b[38;5;241;43m=\u001b[39;49m\u001b[43mdata\u001b[49m\u001b[43m,\u001b[49m\u001b[43m \u001b[49m\u001b[43mvariables\u001b[49m\u001b[38;5;241;43m=\u001b[39;49m\u001b[43mvariables\u001b[49m\u001b[43m)\u001b[49m\n\u001b[0;32m     69\u001b[0m     \u001b[38;5;66;03m# This method takes care of some bookkeeping that is necessary because the\u001b[39;00m\n\u001b[0;32m     70\u001b[0m     \u001b[38;5;66;03m# original categorical plots (prior to the 2021 refactor) had some rules that\u001b[39;00m\n\u001b[0;32m     71\u001b[0m     \u001b[38;5;66;03m# don't fit exactly into VectorPlotter logic. It may be wise to have a second\u001b[39;00m\n\u001b[1;32m   (...)\u001b[0m\n\u001b[0;32m     76\u001b[0m     \u001b[38;5;66;03m# default VectorPlotter rules. If we do decide to make orient part of the\u001b[39;00m\n\u001b[0;32m     77\u001b[0m     \u001b[38;5;66;03m# _base variable assignment, we'll want to figure out how to express that.\u001b[39;00m\n\u001b[0;32m     78\u001b[0m     \u001b[38;5;28;01mif\u001b[39;00m \u001b[38;5;28mself\u001b[39m\u001b[38;5;241m.\u001b[39minput_format \u001b[38;5;241m==\u001b[39m \u001b[38;5;124m\"\u001b[39m\u001b[38;5;124mwide\u001b[39m\u001b[38;5;124m\"\u001b[39m \u001b[38;5;129;01mand\u001b[39;00m orient \u001b[38;5;129;01min\u001b[39;00m [\u001b[38;5;124m\"\u001b[39m\u001b[38;5;124mh\u001b[39m\u001b[38;5;124m\"\u001b[39m, \u001b[38;5;124m\"\u001b[39m\u001b[38;5;124my\u001b[39m\u001b[38;5;124m\"\u001b[39m]:\n",
      "File \u001b[1;32m~\\AppData\\Local\\Packages\\PythonSoftwareFoundation.Python.3.13_qbz5n2kfra8p0\\LocalCache\\local-packages\\Python313\\site-packages\\seaborn\\_base.py:634\u001b[0m, in \u001b[0;36mVectorPlotter.__init__\u001b[1;34m(self, data, variables)\u001b[0m\n\u001b[0;32m    629\u001b[0m \u001b[38;5;66;03m# var_ordered is relevant only for categorical axis variables, and may\u001b[39;00m\n\u001b[0;32m    630\u001b[0m \u001b[38;5;66;03m# be better handled by an internal axis information object that tracks\u001b[39;00m\n\u001b[0;32m    631\u001b[0m \u001b[38;5;66;03m# such information and is set up by the scale_* methods. The analogous\u001b[39;00m\n\u001b[0;32m    632\u001b[0m \u001b[38;5;66;03m# information for numeric axes would be information about log scales.\u001b[39;00m\n\u001b[0;32m    633\u001b[0m \u001b[38;5;28mself\u001b[39m\u001b[38;5;241m.\u001b[39m_var_ordered \u001b[38;5;241m=\u001b[39m {\u001b[38;5;124m\"\u001b[39m\u001b[38;5;124mx\u001b[39m\u001b[38;5;124m\"\u001b[39m: \u001b[38;5;28;01mFalse\u001b[39;00m, \u001b[38;5;124m\"\u001b[39m\u001b[38;5;124my\u001b[39m\u001b[38;5;124m\"\u001b[39m: \u001b[38;5;28;01mFalse\u001b[39;00m}  \u001b[38;5;66;03m# alt., used DefaultDict\u001b[39;00m\n\u001b[1;32m--> 634\u001b[0m \u001b[38;5;28;43mself\u001b[39;49m\u001b[38;5;241;43m.\u001b[39;49m\u001b[43massign_variables\u001b[49m\u001b[43m(\u001b[49m\u001b[43mdata\u001b[49m\u001b[43m,\u001b[49m\u001b[43m \u001b[49m\u001b[43mvariables\u001b[49m\u001b[43m)\u001b[49m\n\u001b[0;32m    636\u001b[0m \u001b[38;5;66;03m# TODO Lots of tests assume that these are called to initialize the\u001b[39;00m\n\u001b[0;32m    637\u001b[0m \u001b[38;5;66;03m# mappings to default values on class initialization. I'd prefer to\u001b[39;00m\n\u001b[0;32m    638\u001b[0m \u001b[38;5;66;03m# move away from that and only have a mapping when explicitly called.\u001b[39;00m\n\u001b[0;32m    639\u001b[0m \u001b[38;5;28;01mfor\u001b[39;00m var \u001b[38;5;129;01min\u001b[39;00m [\u001b[38;5;124m\"\u001b[39m\u001b[38;5;124mhue\u001b[39m\u001b[38;5;124m\"\u001b[39m, \u001b[38;5;124m\"\u001b[39m\u001b[38;5;124msize\u001b[39m\u001b[38;5;124m\"\u001b[39m, \u001b[38;5;124m\"\u001b[39m\u001b[38;5;124mstyle\u001b[39m\u001b[38;5;124m\"\u001b[39m]:\n",
      "File \u001b[1;32m~\\AppData\\Local\\Packages\\PythonSoftwareFoundation.Python.3.13_qbz5n2kfra8p0\\LocalCache\\local-packages\\Python313\\site-packages\\seaborn\\_base.py:679\u001b[0m, in \u001b[0;36mVectorPlotter.assign_variables\u001b[1;34m(self, data, variables)\u001b[0m\n\u001b[0;32m    674\u001b[0m \u001b[38;5;28;01melse\u001b[39;00m:\n\u001b[0;32m    675\u001b[0m     \u001b[38;5;66;03m# When dealing with long-form input, use the newer PlotData\u001b[39;00m\n\u001b[0;32m    676\u001b[0m     \u001b[38;5;66;03m# object (internal but introduced for the objects interface)\u001b[39;00m\n\u001b[0;32m    677\u001b[0m     \u001b[38;5;66;03m# to centralize / standardize data consumption logic.\u001b[39;00m\n\u001b[0;32m    678\u001b[0m     \u001b[38;5;28mself\u001b[39m\u001b[38;5;241m.\u001b[39minput_format \u001b[38;5;241m=\u001b[39m \u001b[38;5;124m\"\u001b[39m\u001b[38;5;124mlong\u001b[39m\u001b[38;5;124m\"\u001b[39m\n\u001b[1;32m--> 679\u001b[0m     plot_data \u001b[38;5;241m=\u001b[39m \u001b[43mPlotData\u001b[49m\u001b[43m(\u001b[49m\u001b[43mdata\u001b[49m\u001b[43m,\u001b[49m\u001b[43m \u001b[49m\u001b[43mvariables\u001b[49m\u001b[43m)\u001b[49m\n\u001b[0;32m    680\u001b[0m     frame \u001b[38;5;241m=\u001b[39m plot_data\u001b[38;5;241m.\u001b[39mframe\n\u001b[0;32m    681\u001b[0m     names \u001b[38;5;241m=\u001b[39m plot_data\u001b[38;5;241m.\u001b[39mnames\n",
      "File \u001b[1;32m~\\AppData\\Local\\Packages\\PythonSoftwareFoundation.Python.3.13_qbz5n2kfra8p0\\LocalCache\\local-packages\\Python313\\site-packages\\seaborn\\_core\\data.py:58\u001b[0m, in \u001b[0;36mPlotData.__init__\u001b[1;34m(self, data, variables)\u001b[0m\n\u001b[0;32m     51\u001b[0m \u001b[38;5;28;01mdef\u001b[39;00m\u001b[38;5;250m \u001b[39m\u001b[38;5;21m__init__\u001b[39m(\n\u001b[0;32m     52\u001b[0m     \u001b[38;5;28mself\u001b[39m,\n\u001b[0;32m     53\u001b[0m     data: DataSource,\n\u001b[0;32m     54\u001b[0m     variables: \u001b[38;5;28mdict\u001b[39m[\u001b[38;5;28mstr\u001b[39m, VariableSpec],\n\u001b[0;32m     55\u001b[0m ):\n\u001b[0;32m     57\u001b[0m     data \u001b[38;5;241m=\u001b[39m handle_data_source(data)\n\u001b[1;32m---> 58\u001b[0m     frame, names, ids \u001b[38;5;241m=\u001b[39m \u001b[38;5;28;43mself\u001b[39;49m\u001b[38;5;241;43m.\u001b[39;49m\u001b[43m_assign_variables\u001b[49m\u001b[43m(\u001b[49m\u001b[43mdata\u001b[49m\u001b[43m,\u001b[49m\u001b[43m \u001b[49m\u001b[43mvariables\u001b[49m\u001b[43m)\u001b[49m\n\u001b[0;32m     60\u001b[0m     \u001b[38;5;28mself\u001b[39m\u001b[38;5;241m.\u001b[39mframe \u001b[38;5;241m=\u001b[39m frame\n\u001b[0;32m     61\u001b[0m     \u001b[38;5;28mself\u001b[39m\u001b[38;5;241m.\u001b[39mnames \u001b[38;5;241m=\u001b[39m names\n",
      "File \u001b[1;32m~\\AppData\\Local\\Packages\\PythonSoftwareFoundation.Python.3.13_qbz5n2kfra8p0\\LocalCache\\local-packages\\Python313\\site-packages\\seaborn\\_core\\data.py:232\u001b[0m, in \u001b[0;36mPlotData._assign_variables\u001b[1;34m(self, data, variables)\u001b[0m\n\u001b[0;32m    230\u001b[0m     \u001b[38;5;28;01melse\u001b[39;00m:\n\u001b[0;32m    231\u001b[0m         err \u001b[38;5;241m+\u001b[39m\u001b[38;5;241m=\u001b[39m \u001b[38;5;124m\"\u001b[39m\u001b[38;5;124mAn entry with this name does not appear in `data`.\u001b[39m\u001b[38;5;124m\"\u001b[39m\n\u001b[1;32m--> 232\u001b[0m     \u001b[38;5;28;01mraise\u001b[39;00m \u001b[38;5;167;01mValueError\u001b[39;00m(err)\n\u001b[0;32m    234\u001b[0m \u001b[38;5;28;01melse\u001b[39;00m:\n\u001b[0;32m    235\u001b[0m \n\u001b[0;32m    236\u001b[0m     \u001b[38;5;66;03m# Otherwise, assume the value somehow represents data\u001b[39;00m\n\u001b[0;32m    237\u001b[0m \n\u001b[0;32m    238\u001b[0m     \u001b[38;5;66;03m# Ignore empty data structures\u001b[39;00m\n\u001b[0;32m    239\u001b[0m     \u001b[38;5;28;01mif\u001b[39;00m \u001b[38;5;28misinstance\u001b[39m(val, Sized) \u001b[38;5;129;01mand\u001b[39;00m \u001b[38;5;28mlen\u001b[39m(val) \u001b[38;5;241m==\u001b[39m \u001b[38;5;241m0\u001b[39m:\n",
      "\u001b[1;31mValueError\u001b[0m: Could not interpret value `Number_of_Casualities` for `y`. An entry with this name does not appear in `data`."
     ]
    }
   ],
   "source": [
    "sns.barplot(data=accident, y='Number_of_Casualities', x = 'Month')\n",
    "plt.gcf().set_size_inches(10,6)\n",
    "plt.show()\n"
   ]
  },
  {
   "cell_type": "code",
   "execution_count": null,
   "id": "db2f0451-5528-42be-92ed-daeafacf205a",
   "metadata": {},
   "outputs": [],
   "source": []
  },
  {
   "cell_type": "code",
   "execution_count": null,
   "id": "28dfa769-c91d-4b09-b37a-d9d7cc5a7beb",
   "metadata": {},
   "outputs": [],
   "source": []
  }
 ],
 "metadata": {
  "kernelspec": {
   "display_name": "Python 3 (ipykernel)",
   "language": "python",
   "name": "python3"
  },
  "language_info": {
   "codemirror_mode": {
    "name": "ipython",
    "version": 3
   },
   "file_extension": ".py",
   "mimetype": "text/x-python",
   "name": "python",
   "nbconvert_exporter": "python",
   "pygments_lexer": "ipython3",
   "version": "3.13.7"
  }
 },
 "nbformat": 4,
 "nbformat_minor": 5
}
